{
 "cells": [
  {
   "cell_type": "markdown",
   "id": "a444d769-67b8-4988-b3dc-61cef6c959b4",
   "metadata": {
    "slideshow": {
     "slide_type": "slide"
    },
    "tags": []
   },
   "source": [
    "<center> <h1> GPU Filter Banks for Audio </h1> </center>\n",
    "\n",
    "Names\n",
    "\n",
    "Cool picture"
   ]
  },
  {
   "cell_type": "markdown",
   "id": "5be4698b-a07b-4202-a517-71bb097ced28",
   "metadata": {
    "slideshow": {
     "slide_type": "slide"
    },
    "tags": []
   },
   "source": [
    "# Background\n",
    "![](img/trends1.png)"
   ]
  },
  {
   "cell_type": "markdown",
   "id": "bbf1c52d-00e5-4cde-9457-fb6c2f2ddaa3",
   "metadata": {
    "slideshow": {
     "slide_type": "notes"
    },
    "tags": []
   },
   "source": [
    "For audio signal processing problems such as compression, denoising, and various types of pattern recognition, deep learning has taken over. For example, the search interest for \"wavelet\" has followed the opposite trajectory as \"convolutional neural network\""
   ]
  },
  {
   "cell_type": "markdown",
   "id": "7e7c77c1-3b4c-44a0-91f6-9fb224cc61bd",
   "metadata": {},
   "source": [
    "A current trend of audio signal processing research is to apply 2D convolutional neural networks to time-frequency representations of audio. Although great progress was made in the pre-deep learning era on perfect reconstruction filterbanks and wavelet transforms, most of the algorithms and techniques have been abandoned by practitioners of deep learning because no standardized and free implementations were ever widely disseminated. As a result, the standarized set of triangular \"Mel\" filterbanks dating back nearly 50 years appears to have remained the dominant tool, and have even seen a resurgance despite their [impending obsolescence.][1]\n",
    "\n",
    "![](img/trends2.png)\n",
    "\n",
    "The use of these methods is accumulating a considerable debt. Compared to the most recent iterations of constant-Q filterbanks, these methods for time-frequency analysis lack several desirable properties\n",
    "\n",
    "* Parameterization/tunability\n",
    "* Perfect reconstruction\n",
    "* Meaningful/interpretable phase representation\n",
    "* Generalization to multiple channels/phased arrays\n",
    "* Efficient implementation for oversampled representations.\n",
    "\n",
    "[1]:https://asmp-eurasipjournals.springeropen.com/articles/10.1186/s13636-021-00217-4"
   ]
  },
  {
   "cell_type": "markdown",
   "id": "d8cb6d7a-d8d9-4cae-bad9-fe7ff2c92456",
   "metadata": {},
   "source": [
    "# Filter Banks and Wavelet Transforms\n",
    "\n",
    "Filter banks are the oldest method of time-frequency analysis, dating back to the first analog spectrum analyzer built by Hermann von Helmholtz in the 19th century.\n",
    "\n",
    "![](img/helmholtz.png)\n",
    "\n",
    "In 1909, mathematician Alfréd Haar discovered that a list of $2^n$ numbers can be represented by recursively taking the sum and difference of adjacent pairs. This property is now commonly referred to 'alias cancellation'\n",
    "\n",
    "In the 1970s, engineers created the first discrete, invertible filterbanks by expoiting this property. Using what are known as 'conjugate mirror filters'. In the following decade, a massive research effort took place, resulting in a rigorous mathematical understanding of these processes and the development of various \"wavelet transforms.\"\n",
    "\n",
    "Unfortunately, deep learning has begun to displace these techniques in education, leading to considerable confusion and technical debt."
   ]
  },
  {
   "cell_type": "markdown",
   "id": "4c80a25b-c23b-4793-b735-c9dcc33646cf",
   "metadata": {},
   "source": [
    "# Haar Decomposition\n",
    "(Draft) Haar decomposition is one of the simplest wavelet transform that has perfect reconstruction property, thus is a good introduction example. First of all, note that the input is a sequence of integers, because we are dealing digital data after sampling from raw data, such as audio. By performing two convolutions with the input, we get a low-frequency component and a high-frequency component.\n",
    "As we can see, the sum and difference of the high and low frequency components forms a splitted signal of the original signal, which we can merge to retain the original one. This is an example of “critically sampled” dyadic filterbank, which means that the size of data after applying the filter is exactly same as original data. Note that, “dyadic filters” refers “dynamic analysis filters”, the type of filtering that consists of a filtering followed by downsampling. There is an inverse operation, which is synthetic filters. (Which we are dealing by convolution. We will get to this detail later)"
   ]
  },
  {
   "cell_type": "code",
   "execution_count": null,
   "id": "b066cd44-7c62-4fbd-b160-66783cd3f72a",
   "metadata": {},
   "outputs": [],
   "source": [
    "x = round.(Int,10*randn(8));"
   ]
  },
  {
   "cell_type": "code",
   "execution_count": null,
   "id": "03901d8c-b5ab-4da8-b51d-1a8da0a5ee8a",
   "metadata": {},
   "outputs": [
    {
     "name": "stdout",
     "output_type": "stream",
     "text": [
      "[7, 1, -13, 20, 4, 7, -18, 5]"
     ]
    }
   ],
   "source": [
    "print(x)"
   ]
  },
  {
   "cell_type": "code",
   "execution_count": null,
   "id": "417035d7-f0a9-40db-bb3e-3dd61c99989b",
   "metadata": {},
   "outputs": [],
   "source": [
    "s = conv(x,[1, 1])[2:2:end];\n",
    "d = conv(x,[1,-1])[2:2:end];"
   ]
  },
  {
   "cell_type": "code",
   "execution_count": null,
   "id": "774523ee-69c3-451e-83fd-dcc874586656",
   "metadata": {},
   "outputs": [
    {
     "name": "stdout",
     "output_type": "stream",
     "text": [
      "s = [8, 7, 11, -13]\n",
      "d = [-6, 33, 3, 23]"
     ]
    }
   ],
   "source": [
    "println(\"s = \",s); print(\"d = \",d)"
   ]
  },
  {
   "cell_type": "code",
   "execution_count": null,
   "id": "c88bd14c-6dd3-4df3-a4c1-a799285ebe46",
   "metadata": {},
   "outputs": [],
   "source": [
    "y1 = (s-d)/2;\n",
    "y2 = (s+d)/2;"
   ]
  },
  {
   "cell_type": "code",
   "execution_count": null,
   "id": "b3734404-b6b3-4f8d-b586-c3f25a6e7fba",
   "metadata": {},
   "outputs": [
    {
     "name": "stdout",
     "output_type": "stream",
     "text": [
      "[7, -13, 4, -18]\n",
      "[1, 20, 7, 5]"
     ]
    }
   ],
   "source": [
    "println(Int.(y1)); print(Int.(y2))"
   ]
  },
  {
   "cell_type": "markdown",
   "id": "9f935983-6d28-4b41-b5a0-a5a97ff6d571",
   "metadata": {},
   "source": [
    "This is an example of a **critically sampled** dyadic filterbank"
   ]
  },
  {
   "cell_type": "markdown",
   "id": "33c5c671-b29c-451c-a64d-dfc5bd385213",
   "metadata": {},
   "source": [
    "# Time-frequency tiling\n",
    "\n",
    "\n",
    "\n",
    "Decomposing the lower branch produces octave filters\n",
    "\n",
    "img/dyadic_analysis_filterbank.svg\n",
    "\n",
    "![](img/octave_tiling.png)\n"
   ]
  },
  {
   "cell_type": "markdown",
   "id": "26fa0e52-2653-45a9-9e46-906e053d7f34",
   "metadata": {},
   "source": [
    "Decomposing both branches (balanced tree)\n",
    "\n",
    "(uniform grid of rectangles) "
   ]
  },
  {
   "cell_type": "markdown",
   "id": "04ec2151-9789-4b6f-ac17-359bb6d49e66",
   "metadata": {},
   "source": [
    "you can have anything in the middle"
   ]
  },
  {
   "cell_type": "markdown",
   "id": "1e3bc95a-928d-451d-a2fa-f365bf53505e",
   "metadata": {},
   "source": [
    "(Draft)\n",
    "In the Haar decomposition, we received two signals with half time resolution but twice the frequency resolution signals, by applying the filters. Next, we introduce a more fine-grained time-frequency tiling pattern, as shown in the image.\n",
    "\n",
    "This structure has the benefit of a simple data structure, since each tile is a vector, while providing the exact trade-off between the frequency resolution and the time resolution as we want."
   ]
  },
  {
   "cell_type": "markdown",
   "id": "14761dcd-75fe-44dc-be39-4288c7186a57",
   "metadata": {},
   "source": [
    "# Decimation filterbank\n",
    "\n",
    "filter then downsample\n",
    "\n",
    "!= dilation + stride (but close)\n",
    "\n",
    "show toeplitz matrix multiplication with upsampling/downsampling\n",
    "\n",
    "# Polyphase filterbank\n",
    "\n",
    "upsample then filter\n",
    " \n",
    "?= transposed convolution with dilation and stride\n",
    "\n",
    "Another oppurtunity to add CPU parallelism\n",
    "\n",
    "show mathematically that it's equivalent to splitting filter into L pieces where L is the upsampling factor, and applying filters in parallel\n",
    "\n"
   ]
  },
  {
   "cell_type": "markdown",
   "id": "e779104a-d66e-4c02-9f6b-6eb1fb7ef4ab",
   "metadata": {},
   "source": [
    "# Oversampled filterbanks"
   ]
  },
  {
   "cell_type": "markdown",
   "id": "e3cb7a88-992d-4924-b107-f87f8a9261d8",
   "metadata": {},
   "source": [
    "(Draft) Oversampled filterbanks refers to the type of filterbank that results in larger sized output data compared to the input. For example, Fourier Transform is an oversampled filtering with factor 2, as it yields a signal in frequency domain and the phase domain. \n",
    "\n",
    "Because of this nature, oversampled filterbank can get better CPU parallelism by having multiple data pipeline."
   ]
  },
  {
   "cell_type": "markdown",
   "id": "9b753df7-4816-4745-a41d-e0e04c9483c0",
   "metadata": {},
   "source": [
    "# Undersampled filterbanks"
   ]
  },
  {
   "cell_type": "markdown",
   "id": "92b0c235-9813-4dc1-9e96-b512e91ca721",
   "metadata": {},
   "source": [
    "(Draft) In contrast to oversampled filterbanks, undersampled filterbank results in smaller sized output data compared to the input data. An example is convolving input signal with a small kernal without paddings."
   ]
  },
  {
   "cell_type": "markdown",
   "id": "adbae684-5792-4269-9c25-6decd8f846fd",
   "metadata": {},
   "source": [
    "# Analysis filterbank"
   ]
  },
  {
   "cell_type": "markdown",
   "id": "6cf30d9d-dacb-4e6b-add1-900d74194e10",
   "metadata": {},
   "source": [
    "# Synthesis filterbank"
   ]
  },
  {
   "cell_type": "markdown",
   "id": "57fbc433-e506-4c08-8724-3afd14f4bc22",
   "metadata": {},
   "source": [
    "# Processing\n",
    "\n",
    "* denoising\n",
    "* compression\n",
    "* source separation"
   ]
  },
  {
   "cell_type": "markdown",
   "id": "c3e14cca-a24e-4a69-b9e2-9122f836ab75",
   "metadata": {},
   "source": [
    "# Octave Filters + Balanced Filters"
   ]
  },
  {
   "cell_type": "markdown",
   "id": "4618d5c7-0e43-4d35-ac38-6eb58ba46b2e",
   "metadata": {},
   "source": [
    "In our filter, we repeatedly apply analysis filters to break down the input signal and synthesis filters to reconstruct from broken down (and possibly processed) pieces. As shown in the earlier image, this has an unbalanced tree structure where we apply analysis filters to the higher frequency-band output at each level, but leave the lower frequency-band output. This is a natural structure, as human ear processes sound signals in a similar way. \n",
    "\n",
    "In our algorithm, we break down the signal into 11 octaves, as 11 is mostly sufficient to cover human’s hearing capability. As a result, we get 11 vectors, where higher frequency blocks have better resolution.  Note that, we can apply any operation on these vectors and still retain the reconstruction property, as long as the operation has the mirror-conjugate property.\n",
    "\n",
    "Following the octave-spaced analysis filter, we apply dyadic filters in a balanced-tree fashion (i.e. apply filters to both high and low frequency outputs), to obtain some fixed frequency-resolution blocks out of the imbalanced length blocks from the previous step. \n",
    "\n",
    "Now, we have obtained 11 blocks of signals, decomposed from the orignal signal, where each block has the exact same frequency resolutions. We can see this as a feature representatino of the original data, where the features size is exactly same as original (i.e. critially sampled). \n",
    "\n",
    "Later, we will demonstrate the ease of use with this decomposition. We can perform various useful operations such as denoising and comporession with very simple code, and it is highly efficient due to massive parallelism."
   ]
  },
  {
   "cell_type": "markdown",
   "id": "089999af-2465-4903-b68d-6c97c11110dd",
   "metadata": {},
   "source": [
    "# Demo our program"
   ]
  }
 ],
 "metadata": {
  "kernelspec": {
   "display_name": "Julia 1.7.0-beta3",
   "language": "julia",
   "name": "julia-1.7"
  },
  "language_info": {
   "file_extension": ".jl",
   "mimetype": "application/julia",
   "name": "julia",
   "version": "1.7.0"
  }
 },
 "nbformat": 4,
 "nbformat_minor": 5
}
