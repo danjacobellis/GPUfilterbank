{
 "cells": [
  {
   "cell_type": "code",
   "execution_count": null,
   "id": "0c159ecb-3c69-41ac-817e-845e5fc92b75",
   "metadata": {},
   "outputs": [],
   "source": [
    "using CUDA;"
   ]
  },
  {
   "cell_type": "code",
   "execution_count": null,
   "id": "8389f9fe-bd4d-4366-9b05-cc9b0732cc68",
   "metadata": {},
   "outputs": [],
   "source": [
    "make_4d(x) = reshape(x,(size(x,1),1,1,1))\n",
    "tensor(x) = CuArray(make_4d(x));\n",
    "gpu_filt(h,x,p=(0,0),s=(0,0),d=(0,0)) = CUDA.CUDNN.cudnnConvolutionForward(\n",
    "    h,\n",
    "    x,\n",
    "    padding = p,\n",
    "    stride = s,\n",
    "    dilation = d);"
   ]
  },
  {
   "cell_type": "code",
   "execution_count": null,
   "id": "87b039a4-f493-41b3-bf86-30fa1307bc10",
   "metadata": {},
   "outputs": [],
   "source": [
    "function analysis_filterbank(x, LA, HA, n_octaves=10, n_suboctave_bands=32)\n",
    "        \n",
    "    for octave ∈ 1:n_octaves\n",
    "        y = cat(\n",
    "            x[1:size(x,1)-1],\n",
    "            [gpu_filt(HA, x[end], (1,0), 1, 1)[1:2:end-1,:,:,:]],\n",
    "            [gpu_filt(LA, x[end], (1,0), 1, 1)[1:2:end-1,:,:,:]],\n",
    "            dims=1)\n",
    "        x = y;\n",
    "    end\n",
    "    \n",
    "    for octave ∈ 1:(n_octaves+1)\n",
    "        while(size(x[octave],2) < n_suboctave_bands)\n",
    "            y = hcat(\n",
    "            gpu_filt(HA, x[octave], (1,0), 1, 1)[1:2:end-1,:,:,:],\n",
    "            gpu_filt(LA, x[octave], (1,0), 1, 1)[1:2:end-1,:,:,:]\n",
    "            );\n",
    "            x[octave] = y\n",
    "        end\n",
    "    end\n",
    "    \n",
    "    return x;\n",
    "    \n",
    "end;"
   ]
  },
  {
   "cell_type": "code",
   "execution_count": null,
   "id": "83f96fac-b037-4d59-ba39-923aca35945e",
   "metadata": {},
   "outputs": [],
   "source": [
    "function synthesis_filterbank(x, LS, HS, n_octaves=10)\n",
    "      \n",
    "    for octave ∈ 1:(num_octaves+1)\n",
    "        while(size(x[octave],2) > 1)\n",
    "            ns = size(x[octave],1)*2;\n",
    "            nf = size(x[octave],2)÷2;\n",
    "            y = CUDA.zeros(ns, nf, 1, 1);\n",
    "            y[1:2:end,:] = x[octave][:,1:nf];\n",
    "            tmp = CUDA.zeros(ns, nf, 1, 1);\n",
    "            tmp[1:2:end,:] = x[octave][:,nf+1:end];\n",
    "            y = gpu_filt(HS, y, (1,0), 1, 1)[2:end,:,:,:] .+ gpu_filt(LS, tmp, (1,0), 1, 1)[2:end,:,:,:];\n",
    "            x[octave] = y\n",
    "        end\n",
    "    end\n",
    "    \n",
    "    for octave ∈ 1:num_octaves\n",
    "        y = cat(\n",
    "            x[1:size(x,1)-2],\n",
    "            [tensor(zeros(Float32,2*size(x[end],1)))],\n",
    "            dims=1)\n",
    "        tmp = tensor(zeros(Float32,2*size(x[end],1)));\n",
    "        y[end][1:2:end] = x[end-1];\n",
    "        tmp[1:2:end] = x[end];\n",
    "        y[end] = gpu_filt(HS, y[end], (1,0), 1, 1)[2:end,:,:,:] .+ gpu_filt(LS, tmp, (1,0), 1, 1)[2:end,:,:,:];\n",
    "        x = y;\n",
    "    end\n",
    "    \n",
    "    return x;\n",
    "    \n",
    "end;"
   ]
  }
 ],
 "metadata": {
  "kernelspec": {
   "display_name": "Julia 1.7.0-beta3",
   "language": "julia",
   "name": "julia-1.7"
  },
  "language_info": {
   "file_extension": ".jl",
   "mimetype": "application/julia",
   "name": "julia",
   "version": "1.7.0"
  }
 },
 "nbformat": 4,
 "nbformat_minor": 5
}
