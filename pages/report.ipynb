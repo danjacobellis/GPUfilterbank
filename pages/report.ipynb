{
 "cells": [
  {
   "cell_type": "markdown",
   "id": "c5584726-6066-4e0b-a619-935ea68e7efe",
   "metadata": {},
   "source": [
    "# Notebook to PDF (as a document)\n",
    "\n",
    "`jupyter-nbconvert report.ipynb --to pdf -TagRemovePreprocessor.remove_cell_tags='{\"remove_cell\"}' --template template.tplx`\n",
    "\n",
    "# Notebook to slide deck\n",
    "\n",
    "`jupyter-nbconvert report.ipynb --to slides --TagRemovePreprocessor.remove_input_tags={\\\"remove-input\\\"} --post serve --ServePostProcessor.port=9997 --ServePostProcessor.ip=\"0.0.0.0\"`\n",
    "\n",
    "http://72.179.3.141:9997/nov8.slides.html\n",
    "\n",
    "To convert to pdf, add ?print-pdf to URL, i.e.\n",
    "\n",
    "http://72.179.3.141:9997/nov8.slides.html?print-pdf"
   ]
  },
  {
   "cell_type": "markdown",
   "id": "0e2943c4-f6a5-4bef-9bf9-2f09dce560dc",
   "metadata": {},
   "source": [
    "# GPU Filter Banks for Audio"
   ]
  },
  {
   "cell_type": "markdown",
   "id": "8783bec1-3904-4815-ba11-96c0a53b3468",
   "metadata": {},
   "source": [
    "# Abstract\n",
    "\n",
    "In our project, we implement a class of perfect-reconstruction filterbanks for audio analysis. We exploit parallelism across CPU threads for part of our algorithm and use a GPU to solve embarassingly parallel subtasks. We also introduce a novel type of time-frequency tiling which retains the benefits of constant-Q transforms without requiring their cumbersome data structure."
   ]
  },
  {
   "cell_type": "markdown",
   "id": "a2d9eaca-60c1-4051-a7da-0ce825366f24",
   "metadata": {},
   "source": [
    "# Background\n",
    "\n",
    "For audio signal processing problems such as compression, denoising, and various types of pattern recognition, deep learning has taken over. For example, the search interest for \"wavelet\" has followed the opposite trajectory as \"convolutional neural network\"\n",
    "\n",
    "![](img/trends1.png)\n",
    "\n",
    "A current trend of audio signal processing research is to apply 2D convolutional neural networks to time-frequency representations of audio. Although great progress was made in the pre-deep learning era on perfect reconstruction filterbanks and wavelet transforms, most of the algorithms and techniques have been abandoned by practitioners of deep learning because no standardized and free implementations were ever widely disseminated. As a result, the standarized set of triangular \"Mel\" filterbanks dating back nearly 50 years appears to have remained the dominant tool, and have even seen a resurgance despite their [impending obsolescence.][1]\n",
    "\n",
    "![](img/trends2.png)\n",
    "\n",
    "The use of these methods is accumulating a considerable debt. Compared to the most recent iterations of constant-Q filterbanks, these methods for time-frequency analysis lack several desirable properties\n",
    "\n",
    "* Parameterization/tunability\n",
    "* Perfect reconstruction\n",
    "* Meaningful/interpretable phase representation\n",
    "* Generalization to multiple channels/phased arrays\n",
    "* Efficient implementation for oversampled representations.\n",
    "\n",
    "[1]:https://asmp-eurasipjournals.springeropen.com/articles/10.1186/s13636-021-00217-4"
   ]
  },
  {
   "cell_type": "markdown",
   "id": "cab300cc-3c40-4783-bdd0-e95cbff788b0",
   "metadata": {},
   "source": [
    "# Filter Banks and Wavelet Transforms\n",
    "\n",
    "Filter banks are the oldest method of time-frequency analysis, dating back to the first analog spectrum analyzer built by Hermann von Helmholtz in the 19th century.\n",
    "\n",
    "![](img/helmholtz.png)\n",
    "\n",
    "In 1909, mathematician Alfréd Haar discovered that a list of $2^n$ numbers can be represented by recursively taking the sum and difference of adjacent pairs. This property is now commonly referred to 'alias cancellation'\n",
    "\n",
    "In the 1970s, engineers created the first discrete, invertible filterbanks by expoiting this property. Using what are known as 'conjugate mirror filters'. In the following decade, a massive research effort took place, resulting in a rigorous mathematical understanding of these processes and the development of various \"wavelet transforms.\"\n",
    "\n",
    "Unfortunately, deep learning has begun to displace these techniques in education, leading to considerable confusion and technical debt."
   ]
  },
  {
   "cell_type": "code",
   "execution_count": null,
   "id": "8c27045d-85f7-4c67-a7f4-241b0f4a9fb1",
   "metadata": {},
   "outputs": [],
   "source": [
    "using DSP"
   ]
  },
  {
   "cell_type": "markdown",
   "id": "cdef11f8-69c2-4a54-94f2-c6198d816d9f",
   "metadata": {},
   "source": [
    "# Haar Decomposition"
   ]
  },
  {
   "cell_type": "code",
   "execution_count": null,
   "id": "b066cd44-7c62-4fbd-b160-66783cd3f72a",
   "metadata": {},
   "outputs": [],
   "source": [
    "x = round.(Int,10*randn(8));"
   ]
  },
  {
   "cell_type": "code",
   "execution_count": null,
   "id": "03901d8c-b5ab-4da8-b51d-1a8da0a5ee8a",
   "metadata": {},
   "outputs": [
    {
     "name": "stdout",
     "output_type": "stream",
     "text": [
      "[7, 1, -13, 20, 4, 7, -18, 5]"
     ]
    }
   ],
   "source": [
    "print(x)"
   ]
  },
  {
   "cell_type": "code",
   "execution_count": null,
   "id": "417035d7-f0a9-40db-bb3e-3dd61c99989b",
   "metadata": {},
   "outputs": [],
   "source": [
    "s = conv(x,[1, 1])[2:2:end];\n",
    "d = conv(x,[1,-1])[2:2:end];"
   ]
  },
  {
   "cell_type": "code",
   "execution_count": null,
   "id": "774523ee-69c3-451e-83fd-dcc874586656",
   "metadata": {},
   "outputs": [
    {
     "name": "stdout",
     "output_type": "stream",
     "text": [
      "s = [8, 7, 11, -13]\n",
      "d = [-6, 33, 3, 23]"
     ]
    }
   ],
   "source": [
    "println(\"s = \",s); print(\"d = \",d)"
   ]
  },
  {
   "cell_type": "code",
   "execution_count": null,
   "id": "c88bd14c-6dd3-4df3-a4c1-a799285ebe46",
   "metadata": {},
   "outputs": [],
   "source": [
    "y1 = (s-d)/2;\n",
    "y2 = (s+d)/2;"
   ]
  },
  {
   "cell_type": "code",
   "execution_count": null,
   "id": "b3734404-b6b3-4f8d-b586-c3f25a6e7fba",
   "metadata": {},
   "outputs": [
    {
     "name": "stdout",
     "output_type": "stream",
     "text": [
      "[7, -13, 4, -18]\n",
      "[1, 20, 7, 5]"
     ]
    }
   ],
   "source": [
    "println(Int.(y1)); print(Int.(y2))"
   ]
  },
  {
   "cell_type": "markdown",
   "id": "0f7c7ca2-ad70-42e3-8216-e0afb6d97476",
   "metadata": {},
   "source": [
    "This is an example of a **critically sampled** dyadic filterbank"
   ]
  },
  {
   "cell_type": "markdown",
   "id": "997bcccf-5227-4d3f-a237-30c335445670",
   "metadata": {},
   "source": [
    "# Time-frequency tiling\n",
    "\n",
    "Decomposing the lower branch produces octave filters\n",
    "\n",
    "img/dyadic_analysis_filterbank.svg\n",
    "\n",
    "![](img/octave_tiling.png)\n"
   ]
  },
  {
   "cell_type": "markdown",
   "id": "c0b0511b-5860-4ded-a027-c4f3b94ce225",
   "metadata": {},
   "source": [
    "Decomposing both branches (balanced tree)\n",
    "\n",
    "(uniform grid of rectangles) "
   ]
  },
  {
   "cell_type": "markdown",
   "id": "38fbbc2a-acba-4f47-a500-122d8edae4e8",
   "metadata": {},
   "source": [
    "you can have anything in the middle"
   ]
  },
  {
   "cell_type": "markdown",
   "id": "68f9966f-c7ae-4d3c-9e3d-3b73135327cf",
   "metadata": {},
   "source": [
    "# DWT Sequential time complexity\n",
    "\n",
    "each level is N log N\n",
    "\n",
    "log N levels\n",
    "\n",
    "between N log N and N (log N)^2\n",
    "\n",
    "regardless of how many levels you go down"
   ]
  },
  {
   "cell_type": "markdown",
   "id": "b76e9e61-df5f-4471-b39d-c473d63e795b",
   "metadata": {},
   "source": [
    "# parallel fft complexity (and therefore convolution)\n",
    "\n",
    "log N levels\n",
    "\n",
    "each level n/p computation\n",
    "\n",
    "(N/p) log N\n",
    "\n",
    "parallel DWT is\n",
    "\n",
    "(N/p) (log N)^2"
   ]
  },
  {
   "cell_type": "markdown",
   "id": "59360456-080e-4155-83f6-a7f6920a8840",
   "metadata": {},
   "source": [
    "# Input size\n",
    "\n",
    "Speech: few seconds long, fs = 16000, N ~ 10^5 per record.\n",
    "\n",
    "Music: minutes long, two channels, fs = 48000, N ~ 10^7 per record.\n",
    "\n",
    "Passive sonar array: 100s of channels, fs in the kHz, ~ 10^10 per hour."
   ]
  },
  {
   "cell_type": "markdown",
   "id": "4219786d-64e9-4278-bfdb-b6a43bd7c394",
   "metadata": {},
   "source": [
    "# Data pipeline\n",
    "\n",
    "Speech and music are nearly always compressed. Typical compression ratio is 10:1\n",
    "\n",
    "Phased array data often minimally compressed and stored on cheap magnetic tape.\n",
    "\n",
    "Often helpful to combine PRAM and GPU computation models.\n",
    "\n",
    "Multiple CPUs can increase the rate at which data is decoded and communicated to the GPU(s)"
   ]
  },
  {
   "cell_type": "markdown",
   "id": "76583610-40fd-49da-87ff-62bdd32589d6",
   "metadata": {},
   "source": [
    "# Generalization to other filters\n",
    "\n",
    "You need alias cancellation\n",
    "\n",
    "https://en.wikipedia.org/wiki/Quadrature_mirror_filter\n",
    "\n",
    "As long as you satisfy this condition, you can use better filters"
   ]
  },
  {
   "cell_type": "markdown",
   "id": "44381c59-b801-4d9d-bdbe-28b7d7a22d6e",
   "metadata": {},
   "source": [
    "# Discrete wavelet transform\n",
    "\n",
    "Generalizes this idea "
   ]
  },
  {
   "cell_type": "markdown",
   "id": "295286b8-2e48-492d-8c95-d476a68f849a",
   "metadata": {},
   "source": [
    "# Goal\n",
    "\n",
    "Generalize these types of transformations to\n",
    "\n",
    "* Filters with greater frequency selectivity\n",
    "* Oversampled filters\n",
    "* Undersampled filters"
   ]
  },
  {
   "cell_type": "markdown",
   "id": "82cb898f-a115-4d05-8d6e-6a356c451b43",
   "metadata": {},
   "source": [
    "# GPU convolution\n",
    "\n",
    "what is CUDA doing?\n",
    "\n",
    "https://docs.nvidia.com/deeplearning/cudnn/developer-guide/index.html\n",
    "\n",
    "If you repeat your data and construct \n",
    "\n",
    "https://en.wikipedia.org/wiki/Toeplitz_matrix\n",
    "\n",
    "Then convolution is equivalent to matrix multiply\n",
    "\n",
    "Not actually doing matrix multiplication, but create a mapping from \"virtual matrix\" to corresponding array location\n",
    "\n",
    "(fold in some of the theory from lecture on mat mul)"
   ]
  },
  {
   "cell_type": "markdown",
   "id": "516d8095-3ede-4cb7-9144-aea24ced99ae",
   "metadata": {},
   "source": [
    "# Parallel FFT algorithms"
   ]
  },
  {
   "cell_type": "markdown",
   "id": "c6789233-25a7-42df-8797-6cb4bc59e3cc",
   "metadata": {},
   "source": [
    "# Decimation filterbank\n",
    "\n",
    "filter then downsample\n",
    "\n",
    "!= dilation + stride (but close)\n",
    "\n",
    "show toeplitz matrix multiplication with upsampling/downsampling\n",
    "\n",
    "# Polyphase filterbank\n",
    "\n",
    "upsample then filter\n",
    " \n",
    "?= transposed convolution with dilation and stride\n",
    "\n",
    "Another oppurtunity to add CPU parallelism\n",
    "\n",
    "show mathematically that it's equivalent to splitting filter into L pieces where L is the upsampling factor, and applying filters in parallel\n",
    "\n"
   ]
  },
  {
   "cell_type": "markdown",
   "id": "6242cb31-edeb-4b77-9e13-e0b720ccd5a0",
   "metadata": {},
   "source": [
    "# Oversampled filterbanks\n",
    "You get exploit more CPU parallelism"
   ]
  },
  {
   "cell_type": "markdown",
   "id": "eb43dd3d-b7fe-49af-870a-76bd6a8f1e27",
   "metadata": {},
   "source": [
    "# Undersampled filterbanks"
   ]
  },
  {
   "cell_type": "markdown",
   "id": "bd16f46d-5469-4639-8764-4fff3bb4aee4",
   "metadata": {},
   "source": [
    "# Demo our program"
   ]
  },
  {
   "cell_type": "markdown",
   "id": "348b4b22-6327-4274-adc3-1cb1c51411cc",
   "metadata": {},
   "source": [
    "# Analysis filterbank"
   ]
  },
  {
   "cell_type": "markdown",
   "id": "f4df984e-c523-4ba7-a769-86dd62043ecf",
   "metadata": {},
   "source": [
    "# Processing\n",
    "\n",
    "* denoising\n",
    "* compression\n",
    "* source separation"
   ]
  },
  {
   "cell_type": "markdown",
   "id": "acad44fa-ce9b-4df5-adc7-1f42fd8e89ad",
   "metadata": {},
   "source": [
    "# Synthesis filterbank"
   ]
  }
 ],
 "metadata": {
  "kernelspec": {
   "display_name": "Julia 1.7.0-beta3",
   "language": "julia",
   "name": "julia-1.7"
  },
  "language_info": {
   "file_extension": ".jl",
   "mimetype": "application/julia",
   "name": "julia",
   "version": "1.7.0"
  }
 },
 "nbformat": 4,
 "nbformat_minor": 5
}
