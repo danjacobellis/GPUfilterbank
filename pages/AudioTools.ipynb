{
 "cells": [
  {
   "cell_type": "code",
   "execution_count": null,
   "id": "c256b6c1-7e5b-4c53-b3b3-6f24391ab7e8",
   "metadata": {},
   "outputs": [],
   "source": [
    "using FileIO;\n",
    "using SampledSignals;\n",
    "using FixedPointNumbers;\n",
    "using Wavelets;"
   ]
  },
  {
   "cell_type": "code",
   "execution_count": null,
   "id": "6c0e7ac6-fa52-44a0-9359-6fe52d470b5d",
   "metadata": {},
   "outputs": [],
   "source": [
    "audio_to_float(x) = Float32.(0.5.*(x[:,1] .+ x[:,2]));\n",
    "float_to_audio(x,sr) = SampleBuf(Q0f15.(x),sr);\n",
    "truncate_audio(x,L) = x[1:L,:];"
   ]
  }
 ],
 "metadata": {
  "kernelspec": {
   "display_name": "Julia 1.7.0-beta3",
   "language": "julia",
   "name": "julia-1.7"
  },
  "language_info": {
   "file_extension": ".jl",
   "mimetype": "application/julia",
   "name": "julia",
   "version": "1.7.0"
  }
 },
 "nbformat": 4,
 "nbformat_minor": 5
}
