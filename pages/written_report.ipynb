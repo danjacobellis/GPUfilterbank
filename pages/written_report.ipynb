{
 "cells": [
  {
   "cell_type": "raw",
   "id": "09f3aaff-f5da-4527-9701-4c892767299d",
   "metadata": {},
   "source": [
    "\\documentclass[runningheads]{llncs}\n",
    "\\usepackage[utf8]{inputenc}\n",
    "\\usepackage{setspace}\n",
    "\\usepackage{amssymb}\n",
    "\\usepackage{subfiles}\n",
    "\\usepackage{amsmath}\n",
    "\\usepackage{graphicx}\n",
    "\\usepackage[\n",
    "backend=biber,\n",
    "style=alphabetic,\n",
    "giveninits=true\n",
    "]{biblatex}\n",
    "\\DeclareNameAlias{default}{family-given}\n",
    "\\addbibresource{sources.bib}\n"
   ]
  },
  {
   "cell_type": "raw",
   "id": "b0bbbe46-48ed-4342-a9fd-27e829817564",
   "metadata": {},
   "source": [
    "\\graphicspath{ {./img/} }\n"
   ]
  },
  {
   "cell_type": "raw",
   "id": "07f748d2-65ab-4c4d-abec-098668f67bb1",
   "metadata": {},
   "source": [
    "\\title{GPU Filter Banks for Audio}\n",
    "\\author{Dan Jacobellis\n",
    "\\and\n",
    "Utsha Khondkar}\n",
    "\\date{\\today}\n",
    "\n",
    "\\authorrunning{Jacobellis and Khondkar}\n",
    "\n",
    "\\institute{ Department of Electrical and Computer  Engineering\\\\\n",
    "  University of Texas at Austin,\\\\\n",
    "  Austin, TX 78712\\\\\n",
    " \\email{\\{danjacobellis, utsha.kh\\}@utexas.edu}}\n",
    " "
   ]
  },
  {
   "cell_type": "raw",
   "id": "1f43b7c0-5c20-4642-b94c-30848b1a1c09",
   "metadata": {},
   "source": [
    "\\begin{document}\n",
    "\n",
    "\\def\\IEEEQED{\\mbox{\\rule[0pt]{1.3ex}{1.3ex}}} % for a filled box\n",
    "\\newcommand{\\ep}{\\hspace*{\\fill}~\\IEEEQED}\n",
    "\\newenvironment{mproof}[1][Proof]{{\\bf #1: }}{\\ep\\vspace{.1in}}\n",
    "\n",
    "\\maketitle\n",
    "\\doublespacing\n"
   ]
  },
  {
   "cell_type": "raw",
   "id": "7f047958-f060-4b44-8874-9ab12d354f06",
   "metadata": {},
   "source": [
    "\\begin{abstract}\n"
   ]
  },
  {
   "cell_type": "markdown",
   "id": "f5adead8-ba13-4f3c-bea1-4e923c036c9a",
   "metadata": {},
   "source": [
    "In our project, we implement a class of perfect-reconstruction filterbanks for audio analysis. We exploit parallelism across CPU threads for part of our algorithm and use a GPU to solve embarassingly parallel subtasks. We also introduce a novel type of time-frequency tiling which retains the benefits of constant-Q transforms without requiring their cumbersome data structure."
   ]
  },
  {
   "cell_type": "raw",
   "id": "d70d6356-d396-4118-89f2-760bed87e38b",
   "metadata": {},
   "source": [
    "\n",
    "\\end{abstract}\n"
   ]
  },
  {
   "cell_type": "raw",
   "id": "1974ee2a-9de3-40aa-a526-70b4405184fa",
   "metadata": {},
   "source": [
    "\\section{Background} \\label{sec:background}\n"
   ]
  },
  {
   "cell_type": "markdown",
   "id": "019e37a0-d4f9-403f-b248-bf40a2e1ae03",
   "metadata": {},
   "source": [
    "For audio signal processing problems such as compression, denoising, and various types of pattern recognition, deep learning has taken over. For example, the search interest for \"wavelet\" has followed the opposite trajectory as \"convolutional neural network\""
   ]
  },
  {
   "cell_type": "raw",
   "id": "6096af1e-4867-451e-8046-da784dfa66ef",
   "metadata": {},
   "source": [
    "\n",
    "\\begin{figure}[h!]\n",
    "  \\includegraphics[scale=0.4]{trends1}\n",
    "  \\caption{Some expository search trends}\n",
    "\\end{figure}\n"
   ]
  },
  {
   "cell_type": "markdown",
   "id": "2b5df949-5e0e-4fb9-8736-7c1436bf431e",
   "metadata": {
    "tags": [
     "remove_cell"
    ]
   },
   "source": [
    "![](img/trends1.png)"
   ]
  },
  {
   "cell_type": "markdown",
   "id": "50667cf1-2baa-4843-9ca4-8d98f690edc6",
   "metadata": {},
   "source": [
    "A current trend of audio signal processing research is to apply 2D convolutional neural networks to time-frequency representations of audio. Although great progress was made in the pre-deep learning era on perfect reconstruction filterbanks and wavelet transforms, most of the algorithms and techniques have been abandoned by practitioners of deep learning because no standardized and free implementations were ever widely disseminated. As a result, the standarized set of triangular \"Mel\" filterbanks dating back nearly 50 years appears to have remained the dominant tool, and have even seen a resurgance despite their impending obsolescence."
   ]
  },
  {
   "cell_type": "raw",
   "id": "e753dfef-f138-4605-8435-dd69aee1436b",
   "metadata": {},
   "source": [
    "\\cite{performance}\n",
    "\n",
    "\\begin{figure}[h!]\n",
    "  \\includegraphics[scale=0.4]{trends2}\n",
    "  \\caption{More expository search trends}\n",
    "\\end{figure}\n"
   ]
  },
  {
   "cell_type": "markdown",
   "id": "bbc8153b-a4f9-4e57-975c-90415a9e99dc",
   "metadata": {
    "tags": [
     "remove_cell"
    ]
   },
   "source": [
    "![](img/trends2.png)"
   ]
  },
  {
   "cell_type": "markdown",
   "id": "a0bbac42-ca85-4efc-9eff-55d2ac7acd2a",
   "metadata": {},
   "source": [
    "The use of these methods is accumulating a considerable debt. Compared to the most recent iterations of constant-Q filterbanks, these methods for time-frequency analysis lack several desirable properties: (1) parameterization/tunability, (2) perfect reconstruction, (3) Meaningful/interpretable phase representation, (4) generalization to multiple channels/phased arrays, (5) efficient implementation for oversampled representations."
   ]
  },
  {
   "cell_type": "raw",
   "id": "6f3c0e71-7c28-4505-ac9b-95a0c6f214ae",
   "metadata": {},
   "source": [
    "\n",
    "\\section{Filter banks and discrete wavelet transforms}\n"
   ]
  },
  {
   "cell_type": "markdown",
   "id": "565e44b6-ee18-4439-af9a-f06ad6b8cc55",
   "metadata": {},
   "source": [
    "Filter banks are the oldest method of time-frequency analysis, dating back to the first analog spectrum analyzer built by Hermann von Helmholtz in the 19th century."
   ]
  },
  {
   "cell_type": "raw",
   "id": "1aee1fdb-5998-452a-8716-49b9ec870ff6",
   "metadata": {},
   "source": [
    "\n",
    "\\begin{figure}[h!]\n",
    "  \\includegraphics[scale=0.15]{helmholtz}\n",
    "  \\caption{Early work on analog time-frequency analysis}\n",
    "\\end{figure}\n"
   ]
  },
  {
   "cell_type": "markdown",
   "id": "cbcd3160-1715-441b-b35c-40724d0e2ae5",
   "metadata": {
    "tags": [
     "remove_cell"
    ]
   },
   "source": [
    "![](img/helmholtz.png)"
   ]
  },
  {
   "cell_type": "markdown",
   "id": "abe005cc-6e18-40aa-a0ea-6362109163b5",
   "metadata": {},
   "source": [
    "In 1909, mathematician Alfréd Haar discovered that a list of $2^n$ numbers can be represented by recursively taking the sum and difference of adjacent pairs. This property is now commonly referred to 'alias cancellation'\n",
    "\n",
    "In the 1970s, engineers created the first discrete, invertible filterbanks by expoiting this property. Using what are known as 'conjugate mirror filters'. In the following decade, a massive research effort took place, resulting in a rigorous mathematical understanding of these processes and the development of various \"wavelet transforms.\"\n",
    "\n",
    "Unfortunately, deep learning has begun to displace these techniques in education, leading to considerable confusion and technical debt."
   ]
  },
  {
   "cell_type": "raw",
   "id": "be154c06-b80d-4161-b8e1-170cea780bb5",
   "metadata": {},
   "source": [
    "\n",
    "\\printbibliography\n",
    "\\end{document}"
   ]
  },
  {
   "cell_type": "code",
   "execution_count": 37,
   "id": "865fa049-8f79-49d9-a3ec-3e90f500ada1",
   "metadata": {
    "tags": [
     "remove_cell"
    ]
   },
   "outputs": [
    {
     "name": "stdout",
     "output_type": "stream",
     "text": [
      "This is pdfTeX, Version 3.14159265-2.6-1.40.21 (TeX Live 2020/Debian) (preloaded format=pdflatex)\n",
      " restricted \\write18 enabled.\n",
      "entering extended mode\n",
      "(./written_report.tex\n",
      "LaTeX2e <2020-10-01> patch level 4\n",
      "L3 programming layer <2021-01-09> xparse <2020-03-03> (./llncs.cls\n",
      "Document Class: llncs 2018/03/10 v2.20 \n",
      " LaTeX document class for Lecture Notes in Computer Science\n",
      "(/usr/share/texlive/texmf-dist/tex/latex/base/article.cls\n",
      "Document Class: article 2020/04/10 v1.4m Standard LaTeX document class\n",
      "(/usr/share/texlive/texmf-dist/tex/latex/base/size10.clo))\n",
      "(/usr/share/texlive/texmf-dist/tex/latex/tools/multicol.sty)\n",
      "(/usr/share/texlive/texmf-dist/tex/latex/oberdiek/aliascnt.sty))\n",
      "(/usr/share/texlive/texmf-dist/tex/latex/base/inputenc.sty)\n",
      "(/usr/share/texlive/texmf-dist/tex/latex/setspace/setspace.sty)\n",
      "(/usr/share/texlive/texmf-dist/tex/latex/amsfonts/amssymb.sty\n",
      "(/usr/share/texlive/texmf-dist/tex/latex/amsfonts/amsfonts.sty))\n",
      "(/usr/share/texlive/texmf-dist/tex/latex/subfiles/subfiles.sty\n",
      "(/usr/share/texlive/texmf-dist/tex/latex/import/import.sty))\n",
      "(/usr/share/texlive/texmf-dist/tex/latex/amsmath/amsmath.sty\n",
      "For additional information on amsmath, use the `?' option.\n",
      "(/usr/share/texlive/texmf-dist/tex/latex/amsmath/amstext.sty\n",
      "(/usr/share/texlive/texmf-dist/tex/latex/amsmath/amsgen.sty))\n",
      "(/usr/share/texlive/texmf-dist/tex/latex/amsmath/amsbsy.sty)\n",
      "(/usr/share/texlive/texmf-dist/tex/latex/amsmath/amsopn.sty))\n",
      "(/usr/share/texlive/texmf-dist/tex/latex/graphics/graphicx.sty\n",
      "(/usr/share/texlive/texmf-dist/tex/latex/graphics/keyval.sty)\n",
      "(/usr/share/texlive/texmf-dist/tex/latex/graphics/graphics.sty\n",
      "(/usr/share/texlive/texmf-dist/tex/latex/graphics/trig.sty)\n",
      "(/usr/share/texlive/texmf-dist/tex/latex/graphics-cfg/graphics.cfg)\n",
      "(/usr/share/texlive/texmf-dist/tex/latex/graphics-def/pdftex.def)))\n",
      "(/usr/share/texlive/texmf-dist/tex/latex/biblatex/biblatex.sty\n",
      "(/usr/share/texlive/texmf-dist/tex/generic/pdftexcmds/pdftexcmds.sty\n",
      "(/usr/share/texlive/texmf-dist/tex/generic/infwarerr/infwarerr.sty)\n",
      "(/usr/share/texlive/texmf-dist/tex/generic/iftex/iftex.sty)\n",
      "(/usr/share/texlive/texmf-dist/tex/generic/ltxcmds/ltxcmds.sty))\n",
      "(/usr/share/texlive/texmf-dist/tex/latex/etoolbox/etoolbox.sty)\n",
      "(/usr/share/texlive/texmf-dist/tex/latex/kvoptions/kvoptions.sty\n",
      "(/usr/share/texlive/texmf-dist/tex/generic/kvsetkeys/kvsetkeys.sty))\n",
      "(/usr/share/texlive/texmf-dist/tex/latex/logreq/logreq.sty\n",
      "(/usr/share/texlive/texmf-dist/tex/latex/logreq/logreq.def))\n",
      "(/usr/share/texlive/texmf-dist/tex/latex/base/ifthen.sty)\n",
      "(/usr/share/texlive/texmf-dist/tex/latex/url/url.sty)\n",
      "(/usr/share/texlive/texmf-dist/tex/latex/biblatex/blx-dm.def)\n",
      "(/usr/share/texlive/texmf-dist/tex/latex/biblatex/blx-compat.def)\n",
      "(/usr/share/texlive/texmf-dist/tex/latex/biblatex/biblatex.def)\n",
      "(/usr/share/texlive/texmf-dist/tex/latex/biblatex/bbx/alphabetic.bbx\n",
      "(/usr/share/texlive/texmf-dist/tex/latex/biblatex/bbx/standard.bbx))\n",
      "(/usr/share/texlive/texmf-dist/tex/latex/biblatex/cbx/alphabetic.cbx)\n",
      "(/usr/share/texlive/texmf-dist/tex/latex/biblatex/biblatex.cfg))\n",
      "(/usr/share/texlive/texmf-dist/tex/latex/l3backend/l3backend-pdftex.def)\n",
      "(./written_report.aux)\n",
      "(/usr/share/texlive/texmf-dist/tex/context/base/mkii/supp-pdf.mkii\n",
      "[Loading MPS to PDF converter (version 2006.09.02).]\n",
      ") (/usr/share/texlive/texmf-dist/tex/latex/epstopdf-pkg/epstopdf-base.sty\n",
      "(/usr/share/texlive/texmf-dist/tex/latex/grfext/grfext.sty\n",
      "(/usr/share/texlive/texmf-dist/tex/generic/kvdefinekeys/kvdefinekeys.sty))\n",
      "(/usr/share/texlive/texmf-dist/tex/latex/latexconfig/epstopdf-sys.cfg))\n",
      "(/usr/share/texlive/texmf-dist/tex/latex/biblatex/lbx/english.lbx)\n",
      "(/usr/share/texlive/texmf-dist/tex/latex/l3kernel/expl3.sty)\n",
      "(/usr/share/texlive/texmf-dist/tex/latex/biblatex/blx-case-expl3.sty\n",
      "(/usr/share/texlive/texmf-dist/tex/latex/l3packages/xparse/xparse.sty\n",
      "(/usr/share/texlive/texmf-dist/tex/latex/l3packages/xparse/xparse-generic.tex))\n",
      ") (./written_report.bbl)\n",
      "(/usr/share/texlive/texmf-dist/tex/latex/amsfonts/umsa.fd)\n",
      "(/usr/share/texlive/texmf-dist/tex/latex/amsfonts/umsb.fd)\n",
      "(/usr/share/texmf/tex/latex/R/tex/latex/omscmtt.fd)\n",
      "\n",
      "LaTeX Warning: `!h' float specifier changed to `!ht'.\n",
      "\n",
      "\n",
      "LaTeX Warning: `!h' float specifier changed to `!ht'.\n",
      "\n",
      "\n",
      "Overfull \\hbox (12.79382pt too wide) in paragraph at lines 58--59\n",
      "\\OT1/cmr/m/n/10 frequency anal-y-sis lack sev-eral de-sir-able prop-er-ties: (1\n",
      ") pa-ram-e-ter-i-za-tion/tunability,\n",
      "[1{/var/lib/texmf/fonts/map/pdftex/updmap/pdftex.map}] [2 <./img//trends1.png> \n",
      "<./img//trends2.png>] [3 <./img//helmholtz.png>] [4] (./written_report.aux) )\n",
      "(see the transcript file for additional information)</usr/share/texlive/texmf-d\n",
      "ist/fonts/type1/public/amsfonts/cm/cmbx12.pfb></usr/share/texlive/texmf-dist/fo\n",
      "nts/type1/public/amsfonts/cm/cmbx9.pfb></usr/share/texlive/texmf-dist/fonts/typ\n",
      "e1/public/amsfonts/cm/cmmi7.pfb></usr/share/texlive/texmf-dist/fonts/type1/publ\n",
      "ic/amsfonts/cm/cmr10.pfb></usr/share/texlive/texmf-dist/fonts/type1/public/amsf\n",
      "onts/cm/cmr9.pfb></usr/share/texlive/texmf-dist/fonts/type1/public/amsfonts/cm/\n",
      "cmsy9.pfb></usr/share/texlive/texmf-dist/fonts/type1/public/amsfonts/cm/cmti10.\n",
      "pfb></usr/share/texlive/texmf-dist/fonts/type1/public/amsfonts/cm/cmtt9.pfb>\n",
      "Output written on written_report.pdf (4 pages, 1850481 bytes).\n",
      "Transcript written on written_report.log.\n",
      "INFO - This is Biber 2.16\n",
      "INFO - Logfile is 'written_report.blg'\n",
      "INFO - Reading 'written_report.bcf'\n",
      "INFO - Found 1 citekeys in bib section 0\n",
      "INFO - Processing section 0\n",
      "INFO - Looking for bibtex format file 'sources.bib' for section 0\n",
      "INFO - LaTeX decoding ...\n",
      "INFO - Found BibTeX data source 'sources.bib'\n",
      "INFO - Overriding locale 'en-US' defaults 'variable = shifted' with 'variable = non-ignorable'\n",
      "INFO - Overriding locale 'en-US' defaults 'normalization = NFD' with 'normalization = prenormalized'\n",
      "INFO - Sorting list 'anyt/global//global/global' of type 'entry' with template 'anyt' and locale 'en-US'\n",
      "INFO - No sort tailoring available for locale 'en-US'\n",
      "INFO - Writing 'written_report.bbl' with encoding 'UTF-8'\n",
      "INFO - Output to written_report.bbl\n",
      "This is pdfTeX, Version 3.14159265-2.6-1.40.21 (TeX Live 2020/Debian) (preloaded format=pdflatex)\n",
      " restricted \\write18 enabled.\n",
      "entering extended mode\n",
      "(./written_report.tex\n",
      "LaTeX2e <2020-10-01> patch level 4\n",
      "L3 programming layer <2021-01-09> xparse <2020-03-03> (./llncs.cls\n",
      "Document Class: llncs 2018/03/10 v2.20 \n",
      " LaTeX document class for Lecture Notes in Computer Science\n",
      "(/usr/share/texlive/texmf-dist/tex/latex/base/article.cls\n",
      "Document Class: article 2020/04/10 v1.4m Standard LaTeX document class\n",
      "(/usr/share/texlive/texmf-dist/tex/latex/base/size10.clo))\n",
      "(/usr/share/texlive/texmf-dist/tex/latex/tools/multicol.sty)\n",
      "(/usr/share/texlive/texmf-dist/tex/latex/oberdiek/aliascnt.sty))\n",
      "(/usr/share/texlive/texmf-dist/tex/latex/base/inputenc.sty)\n",
      "(/usr/share/texlive/texmf-dist/tex/latex/setspace/setspace.sty)\n",
      "(/usr/share/texlive/texmf-dist/tex/latex/amsfonts/amssymb.sty\n",
      "(/usr/share/texlive/texmf-dist/tex/latex/amsfonts/amsfonts.sty))\n",
      "(/usr/share/texlive/texmf-dist/tex/latex/subfiles/subfiles.sty\n",
      "(/usr/share/texlive/texmf-dist/tex/latex/import/import.sty))\n",
      "(/usr/share/texlive/texmf-dist/tex/latex/amsmath/amsmath.sty\n",
      "For additional information on amsmath, use the `?' option.\n",
      "(/usr/share/texlive/texmf-dist/tex/latex/amsmath/amstext.sty\n",
      "(/usr/share/texlive/texmf-dist/tex/latex/amsmath/amsgen.sty))\n",
      "(/usr/share/texlive/texmf-dist/tex/latex/amsmath/amsbsy.sty)\n",
      "(/usr/share/texlive/texmf-dist/tex/latex/amsmath/amsopn.sty))\n",
      "(/usr/share/texlive/texmf-dist/tex/latex/graphics/graphicx.sty\n",
      "(/usr/share/texlive/texmf-dist/tex/latex/graphics/keyval.sty)\n",
      "(/usr/share/texlive/texmf-dist/tex/latex/graphics/graphics.sty\n",
      "(/usr/share/texlive/texmf-dist/tex/latex/graphics/trig.sty)\n",
      "(/usr/share/texlive/texmf-dist/tex/latex/graphics-cfg/graphics.cfg)\n",
      "(/usr/share/texlive/texmf-dist/tex/latex/graphics-def/pdftex.def)))\n",
      "(/usr/share/texlive/texmf-dist/tex/latex/biblatex/biblatex.sty\n",
      "(/usr/share/texlive/texmf-dist/tex/generic/pdftexcmds/pdftexcmds.sty\n",
      "(/usr/share/texlive/texmf-dist/tex/generic/infwarerr/infwarerr.sty)\n",
      "(/usr/share/texlive/texmf-dist/tex/generic/iftex/iftex.sty)\n",
      "(/usr/share/texlive/texmf-dist/tex/generic/ltxcmds/ltxcmds.sty))\n",
      "(/usr/share/texlive/texmf-dist/tex/latex/etoolbox/etoolbox.sty)\n",
      "(/usr/share/texlive/texmf-dist/tex/latex/kvoptions/kvoptions.sty\n",
      "(/usr/share/texlive/texmf-dist/tex/generic/kvsetkeys/kvsetkeys.sty))\n",
      "(/usr/share/texlive/texmf-dist/tex/latex/logreq/logreq.sty\n",
      "(/usr/share/texlive/texmf-dist/tex/latex/logreq/logreq.def))\n",
      "(/usr/share/texlive/texmf-dist/tex/latex/base/ifthen.sty)\n",
      "(/usr/share/texlive/texmf-dist/tex/latex/url/url.sty)\n",
      "(/usr/share/texlive/texmf-dist/tex/latex/biblatex/blx-dm.def)\n",
      "(/usr/share/texlive/texmf-dist/tex/latex/biblatex/blx-compat.def)\n",
      "(/usr/share/texlive/texmf-dist/tex/latex/biblatex/biblatex.def)\n",
      "(/usr/share/texlive/texmf-dist/tex/latex/biblatex/bbx/alphabetic.bbx\n",
      "(/usr/share/texlive/texmf-dist/tex/latex/biblatex/bbx/standard.bbx))\n",
      "(/usr/share/texlive/texmf-dist/tex/latex/biblatex/cbx/alphabetic.cbx)\n",
      "(/usr/share/texlive/texmf-dist/tex/latex/biblatex/biblatex.cfg))\n",
      "(/usr/share/texlive/texmf-dist/tex/latex/l3backend/l3backend-pdftex.def)\n",
      "(./written_report.aux)\n",
      "(/usr/share/texlive/texmf-dist/tex/context/base/mkii/supp-pdf.mkii\n",
      "[Loading MPS to PDF converter (version 2006.09.02).]\n",
      ") (/usr/share/texlive/texmf-dist/tex/latex/epstopdf-pkg/epstopdf-base.sty\n",
      "(/usr/share/texlive/texmf-dist/tex/latex/grfext/grfext.sty\n",
      "(/usr/share/texlive/texmf-dist/tex/generic/kvdefinekeys/kvdefinekeys.sty))\n",
      "(/usr/share/texlive/texmf-dist/tex/latex/latexconfig/epstopdf-sys.cfg))\n",
      "(/usr/share/texlive/texmf-dist/tex/latex/biblatex/lbx/english.lbx)\n",
      "(/usr/share/texlive/texmf-dist/tex/latex/l3kernel/expl3.sty)\n",
      "(/usr/share/texlive/texmf-dist/tex/latex/biblatex/blx-case-expl3.sty\n",
      "(/usr/share/texlive/texmf-dist/tex/latex/l3packages/xparse/xparse.sty\n",
      "(/usr/share/texlive/texmf-dist/tex/latex/l3packages/xparse/xparse-generic.tex))\n",
      ") (./written_report.bbl)\n",
      "(/usr/share/texlive/texmf-dist/tex/latex/amsfonts/umsa.fd)\n",
      "(/usr/share/texlive/texmf-dist/tex/latex/amsfonts/umsb.fd)\n",
      "(/usr/share/texmf/tex/latex/R/tex/latex/omscmtt.fd)\n",
      "\n",
      "LaTeX Warning: `!h' float specifier changed to `!ht'.\n",
      "\n",
      "\n",
      "LaTeX Warning: `!h' float specifier changed to `!ht'.\n",
      "\n",
      "\n",
      "Overfull \\hbox (12.79382pt too wide) in paragraph at lines 58--59\n",
      "\\OT1/cmr/m/n/10 frequency anal-y-sis lack sev-eral de-sir-able prop-er-ties: (1\n",
      ") pa-ram-e-ter-i-za-tion/tunability,\n",
      "[1{/var/lib/texmf/fonts/map/pdftex/updmap/pdftex.map}] [2 <./img//trends1.png> \n",
      "<./img//trends2.png>] [3 <./img//helmholtz.png>] [4] (./written_report.aux) )\n",
      "(see the transcript file for additional information)</usr/share/texlive/texmf-d\n",
      "ist/fonts/type1/public/amsfonts/cm/cmbx12.pfb></usr/share/texlive/texmf-dist/fo\n",
      "nts/type1/public/amsfonts/cm/cmbx9.pfb></usr/share/texlive/texmf-dist/fonts/typ\n",
      "e1/public/amsfonts/cm/cmmi7.pfb></usr/share/texlive/texmf-dist/fonts/type1/publ\n",
      "ic/amsfonts/cm/cmr10.pfb></usr/share/texlive/texmf-dist/fonts/type1/public/amsf\n",
      "onts/cm/cmr9.pfb></usr/share/texlive/texmf-dist/fonts/type1/public/amsfonts/cm/\n",
      "cmsy9.pfb></usr/share/texlive/texmf-dist/fonts/type1/public/amsfonts/cm/cmti10.\n",
      "pfb></usr/share/texlive/texmf-dist/fonts/type1/public/amsfonts/cm/cmtt9.pfb>\n",
      "Output written on written_report.pdf (4 pages, 1850481 bytes).\n",
      "Transcript written on written_report.log.\n"
     ]
    },
    {
     "name": "stderr",
     "output_type": "stream",
     "text": [
      "/home/server/.local/lib/python3.9/site-packages/traitlets/traitlets.py:2556: FutureWarning: --TagRemovePreprocessor.remove_cell_tags={\"remove_cell\"} for containers is deprecated in traitlets 5.0. You can pass `--TagRemovePreprocessor.remove_cell_tags item` ... multiple times to add items to a list.\n",
      "  warn(\n",
      "[NbConvertApp] Converting notebook written_report.ipynb to markdown\n",
      "[NbConvertApp] Writing 3983 bytes to written_report.md\n"
     ]
    }
   ],
   "source": [
    "run(`jupyter-nbconvert --to markdown written_report.ipynb --TagRemovePreprocessor.remove_cell_tags='{\"remove_cell\"}'`);\n",
    "run(`mv written_report.md written_report.tex`);\n",
    "run(`pdflatex written_report`);\n",
    "run(`biber written_report`);\n",
    "run(`pdflatex written_report`);"
   ]
  }
 ],
 "metadata": {
  "kernelspec": {
   "display_name": "Julia 1.7.0-beta3",
   "language": "julia",
   "name": "julia-1.7"
  },
  "language_info": {
   "file_extension": ".jl",
   "mimetype": "application/julia",
   "name": "julia",
   "version": "1.7.0"
  }
 },
 "nbformat": 4,
 "nbformat_minor": 5
}
