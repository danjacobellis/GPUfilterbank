{
 "cells": [
  {
   "cell_type": "raw",
   "id": "09f3aaff-f5da-4527-9701-4c892767299d",
   "metadata": {},
   "source": [
    "\\documentclass[runningheads]{llncs}\n",
    "\\usepackage[utf8]{inputenc}\n",
    "\\usepackage{setspace}\n",
    "\\usepackage{amssymb}\n",
    "\\usepackage{subfiles}\n",
    "\\usepackage{amsmath}\n",
    "\\usepackage{graphicx}\n",
    "\\usepackage{subcaption}\n",
    "\\usepackage[\n",
    "backend=biber,\n",
    "style=alphabetic,\n",
    "giveninits=true\n",
    "]{biblatex}\n",
    "\\DeclareNameAlias{default}{family-given}\n",
    "\\addbibresource{sources.bib}\n"
   ]
  },
  {
   "cell_type": "raw",
   "id": "b0bbbe46-48ed-4342-a9fd-27e829817564",
   "metadata": {},
   "source": [
    "\\graphicspath{ {./img} }\n"
   ]
  },
  {
   "cell_type": "raw",
   "id": "07f748d2-65ab-4c4d-abec-098668f67bb1",
   "metadata": {},
   "source": [
    "\\title{GPU Filter Banks for Audio}\n",
    "\\author{Dan Jacobellis\n",
    "\\and\n",
    "Utsha Khondkar}\n",
    "\\date{\\today}\n",
    "\n",
    "\\authorrunning{Jacobellis and Khondkar}\n",
    "\n",
    "\\institute{ Department of Electrical and Computer  Engineering\\\\\n",
    "  University of Texas at Austin,\\\\\n",
    "  Austin, TX 78712\\\\\n",
    " \\email{\\{danjacobellis, utsha.kh\\}@utexas.edu}}\n",
    " "
   ]
  },
  {
   "cell_type": "raw",
   "id": "1f43b7c0-5c20-4642-b94c-30848b1a1c09",
   "metadata": {},
   "source": [
    "\\begin{document}\n",
    "\n",
    "\\def\\IEEEQED{\\mbox{\\rule[0pt]{1.3ex}{1.3ex}}} % for a filled box\n",
    "\\newcommand{\\ep}{\\hspace*{\\fill}~\\IEEEQED}\n",
    "\\newenvironment{mproof}[1][Proof]{{\\bf #1: }}{\\ep\\vspace{.1in}}\n",
    "\n",
    "\\maketitle\n",
    "\\doublespacing\n"
   ]
  },
  {
   "cell_type": "raw",
   "id": "7f047958-f060-4b44-8874-9ab12d354f06",
   "metadata": {},
   "source": [
    "\\begin{abstract}\n"
   ]
  },
  {
   "cell_type": "markdown",
   "id": "f5adead8-ba13-4f3c-bea1-4e923c036c9a",
   "metadata": {},
   "source": [
    "In our project, we implement a class of perfect-reconstruction filterbanks for audio analysis. We use a GPU to solve embarassingly parallel subtasks so that the algorithm takes only $O\\left(\\log{N}\\right)$ time steps. We also introduce a novel type of time-frequency tiling which retains the benefits of constant-Q transforms without requiring their cumbersome data structure."
   ]
  },
  {
   "cell_type": "raw",
   "id": "d70d6356-d396-4118-89f2-760bed87e38b",
   "metadata": {},
   "source": [
    "\n",
    "\\end{abstract}\n"
   ]
  },
  {
   "cell_type": "raw",
   "id": "1974ee2a-9de3-40aa-a526-70b4405184fa",
   "metadata": {},
   "source": [
    "\\section{Background} \\label{sec:background}\n"
   ]
  },
  {
   "cell_type": "markdown",
   "id": "019e37a0-d4f9-403f-b248-bf40a2e1ae03",
   "metadata": {},
   "source": [
    "For audio signal processing problems such as compression, denoising, and various types of pattern recognition, deep learning has taken over. For example, the search interest for \"wavelet\" has followed the opposite trajectory as \"convolutional neural network\""
   ]
  },
  {
   "cell_type": "raw",
   "id": "6096af1e-4867-451e-8046-da784dfa66ef",
   "metadata": {},
   "source": [
    "\\begin{figure}[h!]\n",
    "  \\includegraphics[scale=0.4]{trends1}\n",
    "  \\caption{Some expository search trends}\n",
    "\\end{figure}\n"
   ]
  },
  {
   "cell_type": "markdown",
   "id": "50667cf1-2baa-4843-9ca4-8d98f690edc6",
   "metadata": {},
   "source": [
    "A current trend of audio signal processing research is to apply 2D convolutional neural networks to time-frequency representations of audio. Although great progress was made in the pre-deep learning era on perfect reconstruction filterbanks and wavelet transforms, most of these algorithms and techniques have been abandoned by practitioners of deep learning because no standardized and free implementations were ever widely disseminated. As a result, the standarized set of triangular \"Mel\" filterbanks dating back nearly 50 years appears to have remained the dominant tool, and have even seen a resurgance despite their impending obsolescence."
   ]
  },
  {
   "cell_type": "raw",
   "id": "e753dfef-f138-4605-8435-dd69aee1436b",
   "metadata": {},
   "source": [
    "\\cite{performance}\n",
    "\n",
    "\\begin{figure}[h!]\n",
    "  \\includegraphics[scale=0.4]{trends2}\n",
    "  \\caption{More expository search trends}\n",
    "\\end{figure}\n"
   ]
  },
  {
   "cell_type": "markdown",
   "id": "a0bbac42-ca85-4efc-9eff-55d2ac7acd2a",
   "metadata": {},
   "source": [
    "The use of these methods is accumulating a considerable debt. Because they are based on windowed FFTs, the time resolution is the same for all frequencies. This causes the representation to be overly redundant for low frequencies while undersampled for high frequencies. As a result, they lack the perfect reconstruction property and have an inconvenient phase representation. They are difficult to generalize to multiple channels, phased arrays, or higher dimensional transforms. "
   ]
  },
  {
   "cell_type": "raw",
   "id": "6f3c0e71-7c28-4505-ac9b-95a0c6f214ae",
   "metadata": {},
   "source": [
    "\n",
    "\\subsection{Filter banks and discrete wavelet transforms} \\label{sec:wavelet}\n"
   ]
  },
  {
   "cell_type": "markdown",
   "id": "565e44b6-ee18-4439-af9a-f06ad6b8cc55",
   "metadata": {},
   "source": [
    "Filter banks are the oldest method of time-frequency analysis, dating back to the first analog spectrum analyzer built by Hermann von Helmholtz in the 19th century."
   ]
  },
  {
   "cell_type": "raw",
   "id": "1aee1fdb-5998-452a-8716-49b9ec870ff6",
   "metadata": {},
   "source": [
    "\n",
    "\\begin{figure}[h!]\n",
    "  \\includegraphics[scale=0.15]{helmholtz}\n",
    "  \\caption{Early work on analog time-frequency analysis}\n",
    "\\end{figure}\n"
   ]
  },
  {
   "cell_type": "markdown",
   "id": "abe005cc-6e18-40aa-a0ea-6362109163b5",
   "metadata": {},
   "source": [
    "In 1909, mathematician Alfréd Haar discovered that a list of $2^n$ numbers can be represented by recursively taking the sum and difference of adjacent pairs. This property is now commonly referred to 'alias cancellation'. In the 1970s, engineers created the first discrete, invertible filterbanks by expoiting this property. Using what are known as 'conjugate mirror filters'. In the following decade, a massive research effort took place, resulting in a rigorous mathematical understanding of these processes and the development of various \"wavelet transforms.\""
   ]
  },
  {
   "cell_type": "raw",
   "id": "7fdef303-805f-4972-80c1-ebe32c1272d7",
   "metadata": {},
   "source": [
    "\\subsection{Haar Decomposition} \\label{sec:haar}\n"
   ]
  },
  {
   "cell_type": "markdown",
   "id": "aca4f725-2ad3-449c-a622-28443a50b4e8",
   "metadata": {},
   "source": [
    "The Haar decomposition is a simple type of perfect reconstruction filter bank and is the basis of our algorithm. It used the shortest possible filter high-pass and low-pass filters with perfect alias cancellation: The two tap average and the first order difference. Since the downsampling factor is equal to the number of filters, it is critically sampled. Each application of this block doubles the frequency resolution while halving the time resolution. The inverse operation is also achieved by a two-tap average and first order difference. Recursively application of this procedure is a simple type of discrete wavelet transform. The same procedure could be applied using other quadrature mirror filters based on the desired properties of the transform,\\cite{wavelet} but for simplicity we have limited ourselves to the Haar filters."
   ]
  },
  {
   "cell_type": "raw",
   "id": "cfa90ca0-c2fe-4ae1-921b-6967848b3e4e",
   "metadata": {},
   "source": [
    "\\begin{figure}[h!]\n",
    "  \\centering\n",
    "  \\includegraphics[scale=0.4]{Haar_analysis}\n",
    "  \\caption{Single stage of Haar filter bank}\n",
    "\\end{figure}\n"
   ]
  },
  {
   "cell_type": "raw",
   "id": "deda4d7b-d7ac-470b-94c1-907a4f748b57",
   "metadata": {},
   "source": [
    "\\section{Algorithm} \\label{sec:algorithm}\n"
   ]
  },
  {
   "cell_type": "markdown",
   "id": "7f5b0b2d-9a01-45c7-bfec-c3fb84099997",
   "metadata": {},
   "source": [
    "Discrete wavelet transforms are highly parallelizable. However, the data structure that results from recursive decomposition of the low-pass component is cumbersome, especially if we want to perform other types of processing on the resulting time-frequency distribution. As a result, we have chosen to combine to two common dyadic filterbank structures to achieve nearly constant-Q frequency resolution while representing each octave's time-frequency representation with a single matrix."
   ]
  },
  {
   "cell_type": "raw",
   "id": "515eefb9-077c-4f06-a459-c31928cb507e",
   "metadata": {},
   "source": [
    "\\subsection{Recursive assymetric/symmetric tree} \\label{sec:tree}\n"
   ]
  },
  {
   "cell_type": "raw",
   "id": "348c6096-acf5-44b3-9c79-5592919bd270",
   "metadata": {},
   "source": [
    "\n",
    "\\begin{figure}[h!]\n",
    "     \\centering\n",
    "     \\begin{subfigure}[b]{0.25\\linewidth}\n",
    "          \\centering\n",
    "          \\includegraphics[scale=0.25]{asymmetric_analysis}\n",
    "          \\caption{Analysis}\n",
    "     \\end{subfigure}\n",
    "     \\hfill\n",
    "     \\begin{subfigure}[b]{0.25\\linewidth}\n",
    "          \\centering\n",
    "          \\includegraphics[scale=0.25]{asymmetric_synthesis}\n",
    "          \\caption{Synthesis}\n",
    "     \\end{subfigure}\n",
    "        \\label{fig:assymetric}\n",
    "        \\caption{Assymetric Filterbanks}\n",
    "\\end{figure}\n"
   ]
  },
  {
   "cell_type": "raw",
   "id": "79999569-8822-4cea-beb5-f3579c547cd2",
   "metadata": {},
   "source": [
    "\n",
    "\\begin{figure}[h!]\n",
    "     \\centering\n",
    "     \\begin{subfigure}[b]{0.25\\linewidth}\n",
    "          \\centering\n",
    "          \\includegraphics[scale=0.25]{symmetric_analysis}\n",
    "          \\caption{Analysis}\n",
    "     \\end{subfigure}\n",
    "     \\hfill\n",
    "     \\begin{subfigure}[b]{0.25\\linewidth}\n",
    "          \\centering\n",
    "          \\includegraphics[scale=0.25]{symmetric_synthesis}\n",
    "          \\caption{Synthesis}\n",
    "     \\end{subfigure}\n",
    "        \\label{fig:symmetric}\n",
    "        \\caption{Symmetric Filterbanks}\n",
    "\\end{figure}\n"
   ]
  },
  {
   "cell_type": "markdown",
   "id": "0d4b9629-3c97-48bd-b2ed-ed87e4690770",
   "metadata": {},
   "source": [
    "In our algorithm, we recursively apply analysis filters to decompose the low frequency band until we have 10 octaves of resolution (plus a DC band). Then, each octave is further refined in a second stage using the same dyadic filter bank, but this type we recurse for the high-pass component as well. The synthesis filter bank follows the same structure to perform the inverse operation. Since each decomposition reduces the time resolution by a factor of two, there can be a maximum of $\\log{N}$ levels in the tree."
   ]
  },
  {
   "cell_type": "raw",
   "id": "3c557aea-b4c7-4d68-8310-ee300c11837a",
   "metadata": {},
   "source": [
    "\\subsection{Tiling of hybrid approach} \\label{sec:hybrid}\n"
   ]
  },
  {
   "cell_type": "raw",
   "id": "c8b5d04c-1efe-4f17-afcb-a631cf55bb66",
   "metadata": {},
   "source": [
    "\n",
    "\\begin{figure}[h!]\n",
    "     \\centering\n",
    "     \\begin{subfigure}[b]{0.25\\linewidth}\n",
    "          \\centering\n",
    "          \\includegraphics[scale=0.3]{uniform_tile}\n",
    "          \\caption{STFT}\n",
    "     \\end{subfigure}\n",
    "     \\hfill\n",
    "     \\begin{subfigure}[b]{0.25\\linewidth}\n",
    "          \\centering\n",
    "          \\includegraphics[scale=0.3]{cq_tiling}\n",
    "          \\caption{Constant-Q}\n",
    "     \\end{subfigure}\n",
    "        \\label{fig:tilings}\n",
    "        \\caption{Tilings}\n",
    "\\end{figure}\n"
   ]
  },
  {
   "cell_type": "markdown",
   "id": "d7c34bd3-8948-4694-8155-04992db12499",
   "metadata": {},
   "source": [
    "The output of the first stage creates a tiling of the time-frequency plane into octave bands. This provides greater frequency resolution near the low end of the spectrum, but greater time resolution for high frequencies, which is useful for many applications. The output of the second stage further refines each octave into uniformly sized rectangular time-frequency tiles which can be stored and processed conveniently as a matrix."
   ]
  },
  {
   "cell_type": "raw",
   "id": "57a20514-3651-487e-b952-1c368f640d3b",
   "metadata": {},
   "source": [
    "\\section{Implementation} \\label{sec:implementation}\n"
   ]
  },
  {
   "cell_type": "markdown",
   "id": "f7a68798-5ec4-4f58-a1b7-c5dc00e79d0b",
   "metadata": {},
   "source": [
    "Our implementation, along with examples demonstrating the perfect reconstruction property and a simple denoising application are available at danjacobellis.github.io/GPUfilterbank. We used the 'CUDA' package in Julia \\cite{juliagpu} to access the highly optimized CuDNN convolution routines."
   ]
  },
  {
   "cell_type": "raw",
   "id": "69428061-fdbe-4a5b-8811-411f5f0d1330",
   "metadata": {},
   "source": [
    "\\cite{cudnn}\n",
    "\\subsection{CuDNN Convolution} \\label{sec:cudnn}\n"
   ]
  },
  {
   "cell_type": "markdown",
   "id": "49aea2e8-11e0-48de-bc56-b47db2df14c0",
   "metadata": {},
   "source": [
    "The computation required to compute the convolution can be expressed in terms of a matrix vector product of a Toeplitz matrix containing the signal $x$ and a vector of the filter coefficients $h$.\n",
    "\n",
    "$ y = x \\ast h = \n",
    "\\begin{bmatrix}\n",
    "    x_1 & 0 & \\cdots & 0 & 0 \\\\\n",
    "    x_2 & x_1 &      & \\vdots & \\vdots \\\\\n",
    "    x_3 & x_2 & \\cdots & 0 & 0 \\\\\n",
    "    \\vdots & x_3 & \\cdots & x_1 & 0 \\\\\n",
    "    x_{n-1} & \\vdots & \\ddots & x_2 & x_1 \\\\\n",
    "    x_n & x_{n-1} &      & \\vdots & x_2 \\\\\n",
    "    0 & x_n & \\ddots & x_{n-2} & \\vdots \\\\\n",
    "    0 & 0 & \\cdots & x_{n-1} & x_{n-2} \\\\\n",
    "    \\vdots & \\vdots &        & x_n & x_{n-1} \\\\\n",
    "    0 & 0 & 0 & \\cdots & x_n\n",
    "\\end{bmatrix}\n",
    "$\n",
    "$\\begin{bmatrix}\n",
    "    0 \\\\\n",
    "    0 \\\\\n",
    "    \\vdots\\\\\n",
    "    h_1 \\\\\n",
    "    h_2 \\\\\n",
    "    \\vdots \\\\\n",
    "    h_m \\\\\n",
    "    0 \\\\\n",
    "    \\vdots \\\\\n",
    "    0 \\\\\n",
    "\\end{bmatrix}$\n",
    "\n",
    "For a single sample, convolution can be thought of as a dot product between the signal and the filter coefficients. Fortunately, the dot product required to compute each output sample can be executed independently from all other samples. The only dependency preventing the problem from being 'embarrassingly' parallel is that the summation requires a scan. However, for a filter of length $M$, this step only requires $\\log{M}$ steps assuming that the maximum number of processors $p=M$ are utilized. Exploiting the highly optimized CuDNN convolution routines allows us to get as close as possible to this theoretical bound. If the number of processors is increased to $p=NM$, then the entire convolution can be completed in only $\\log{M}$ time steps."
   ]
  },
  {
   "cell_type": "raw",
   "id": "de9d9c2b-e180-4b73-8dc9-f010474232fa",
   "metadata": {},
   "source": [
    "\\subsection{Performance bounds and memory considerations} \\label{sec:cudnn}"
   ]
  },
  {
   "cell_type": "markdown",
   "id": "4b803088-5d99-4121-95dc-8041f3dd07ad",
   "metadata": {},
   "source": [
    "With unlimited processors, our algorithm would complete in $(\\log{N})(\\log{M})$ time steps. However, this is not realistic considering that sizes of audio data can easily exceed $10^{10}$ samples for large datasets. In practice, we are limited by the ability of CPU and data storage to feed data to GPU. However, by keeping a constant stream of data, we can hope to make $p$ a large as possible so that data can be processed in the minimum number of batches."
   ]
  },
  {
   "cell_type": "raw",
   "id": "b70f4d08-96a2-4bd3-8249-19ce987a42c3",
   "metadata": {},
   "source": [
    "\\section{Results} \\label{sec:results}\n"
   ]
  },
  {
   "cell_type": "markdown",
   "id": "2205ee44-2fbb-4827-a94c-487df6bf36cd",
   "metadata": {},
   "source": [
    "We tested how our algorithm scales with different data sizes, from about one second of music to one hour of film. Even when the data size approached the capacity of the GPU, we were able to complete the full transform in roughly one second. The results shown in Fig. 8 are the median of five trials. The synthesis filter bank is only moderately more expensive than the analysis filter bank."
   ]
  },
  {
   "cell_type": "raw",
   "id": "9fc60a0c-9bcd-4cfe-871f-43fc31f58f49",
   "metadata": {},
   "source": [
    "\\begin{figure}[h!]\n",
    "  \\centering\n",
    "  \\includegraphics[scale=0.5]{timing1}\n",
    "  \\caption{Performance measurement of our algorithm}\n",
    "  \\label{timing1}\n",
    "\\end{figure}\n"
   ]
  },
  {
   "cell_type": "markdown",
   "id": "486e209c-0025-479e-ac4c-b6bbfd6d7d18",
   "metadata": {},
   "source": [
    "Next, we compared our algorithm with the mel spectrogram implemented in Librosa, which is a widely-used audio processing library. Since the time-resolution is fixed, it is only capable of approximate reconstruction using a phase-reconstruction algorithm such as like Griffin-Lim."
   ]
  },
  {
   "cell_type": "raw",
   "id": "2a31bf93-ba94-4449-b272-35f050a5ce22",
   "metadata": {},
   "source": [
    "\\begin{figure}[h!]\n",
    "  \\centering\n",
    "  \\includegraphics[scale=0.5]{speedup}\n",
    "  \\caption{Speedup compared to librosa mel spectrogram}\n",
    "\\end{figure}\n"
   ]
  },
  {
   "cell_type": "raw",
   "id": "be154c06-b80d-4161-b8e1-170cea780bb5",
   "metadata": {},
   "source": [
    "\n",
    "\\printbibliography\n",
    "\\end{document}"
   ]
  },
  {
   "cell_type": "code",
   "execution_count": 8,
   "id": "865fa049-8f79-49d9-a3ec-3e90f500ada1",
   "metadata": {},
   "outputs": [
    {
     "name": "stdout",
     "output_type": "stream",
     "text": [
      "This is pdfTeX, Version 3.14159265-2.6-1.40.21 (TeX Live 2020/Debian) (preloaded format=pdflatex)\n",
      " restricted \\write18 enabled.\n",
      "entering extended mode\n",
      "(./written_report.tex\n",
      "LaTeX2e <2020-10-01> patch level 4\n",
      "L3 programming layer <2021-01-09> xparse <2020-03-03> (./llncs.cls\n",
      "Document Class: llncs 2018/03/10 v2.20 \n",
      " LaTeX document class for Lecture Notes in Computer Science\n",
      "(/usr/share/texlive/texmf-dist/tex/latex/base/article.cls\n",
      "Document Class: article 2020/04/10 v1.4m Standard LaTeX document class\n",
      "(/usr/share/texlive/texmf-dist/tex/latex/base/size10.clo))\n",
      "(/usr/share/texlive/texmf-dist/tex/latex/tools/multicol.sty)\n",
      "(/usr/share/texlive/texmf-dist/tex/latex/oberdiek/aliascnt.sty))\n",
      "(/usr/share/texlive/texmf-dist/tex/latex/base/inputenc.sty)\n",
      "(/usr/share/texlive/texmf-dist/tex/latex/setspace/setspace.sty)\n",
      "(/usr/share/texlive/texmf-dist/tex/latex/amsfonts/amssymb.sty\n",
      "(/usr/share/texlive/texmf-dist/tex/latex/amsfonts/amsfonts.sty))\n",
      "(/usr/share/texlive/texmf-dist/tex/latex/subfiles/subfiles.sty\n",
      "(/usr/share/texlive/texmf-dist/tex/latex/import/import.sty))\n",
      "(/usr/share/texlive/texmf-dist/tex/latex/amsmath/amsmath.sty\n",
      "For additional information on amsmath, use the `?' option.\n",
      "(/usr/share/texlive/texmf-dist/tex/latex/amsmath/amstext.sty\n",
      "(/usr/share/texlive/texmf-dist/tex/latex/amsmath/amsgen.sty))\n",
      "(/usr/share/texlive/texmf-dist/tex/latex/amsmath/amsbsy.sty)\n",
      "(/usr/share/texlive/texmf-dist/tex/latex/amsmath/amsopn.sty))\n",
      "(/usr/share/texlive/texmf-dist/tex/latex/graphics/graphicx.sty\n",
      "(/usr/share/texlive/texmf-dist/tex/latex/graphics/keyval.sty)\n",
      "(/usr/share/texlive/texmf-dist/tex/latex/graphics/graphics.sty\n",
      "(/usr/share/texlive/texmf-dist/tex/latex/graphics/trig.sty)\n",
      "(/usr/share/texlive/texmf-dist/tex/latex/graphics-cfg/graphics.cfg)\n",
      "(/usr/share/texlive/texmf-dist/tex/latex/graphics-def/pdftex.def)))\n",
      "(/usr/share/texlive/texmf-dist/tex/latex/caption/subcaption.sty\n",
      "(/usr/share/texlive/texmf-dist/tex/latex/caption/caption.sty\n",
      "(/usr/share/texlive/texmf-dist/tex/latex/caption/caption3.sty)\n",
      "\n",
      "Package caption Warning: Unknown document class (or package),\n",
      "(caption)                standard defaults will be used.\n",
      "See the caption package documentation for explanation.\n",
      "\n",
      ")) (/usr/share/texlive/texmf-dist/tex/latex/biblatex/biblatex.sty\n",
      "(/usr/share/texlive/texmf-dist/tex/generic/pdftexcmds/pdftexcmds.sty\n",
      "(/usr/share/texlive/texmf-dist/tex/generic/infwarerr/infwarerr.sty)\n",
      "(/usr/share/texlive/texmf-dist/tex/generic/iftex/iftex.sty)\n",
      "(/usr/share/texlive/texmf-dist/tex/generic/ltxcmds/ltxcmds.sty))\n",
      "(/usr/share/texlive/texmf-dist/tex/latex/etoolbox/etoolbox.sty)\n",
      "(/usr/share/texlive/texmf-dist/tex/latex/kvoptions/kvoptions.sty\n",
      "(/usr/share/texlive/texmf-dist/tex/generic/kvsetkeys/kvsetkeys.sty))\n",
      "(/usr/share/texlive/texmf-dist/tex/latex/logreq/logreq.sty\n",
      "(/usr/share/texlive/texmf-dist/tex/latex/logreq/logreq.def))\n",
      "(/usr/share/texlive/texmf-dist/tex/latex/base/ifthen.sty)\n",
      "(/usr/share/texlive/texmf-dist/tex/latex/url/url.sty)\n",
      "(/usr/share/texlive/texmf-dist/tex/latex/biblatex/blx-dm.def)\n",
      "(/usr/share/texlive/texmf-dist/tex/latex/biblatex/blx-compat.def)\n",
      "(/usr/share/texlive/texmf-dist/tex/latex/biblatex/biblatex.def)\n",
      "(/usr/share/texlive/texmf-dist/tex/latex/biblatex/bbx/alphabetic.bbx\n",
      "(/usr/share/texlive/texmf-dist/tex/latex/biblatex/bbx/standard.bbx))\n",
      "(/usr/share/texlive/texmf-dist/tex/latex/biblatex/cbx/alphabetic.cbx)\n",
      "(/usr/share/texlive/texmf-dist/tex/latex/biblatex/biblatex.cfg))\n",
      "(/usr/share/texlive/texmf-dist/tex/latex/l3backend/l3backend-pdftex.def)\n",
      "(./written_report.aux\n",
      "\n",
      "LaTeX Warning: Label `sec:cudnn' multiply defined.\n",
      "\n",
      ") (/usr/share/texlive/texmf-dist/tex/context/base/mkii/supp-pdf.mkii\n",
      "[Loading MPS to PDF converter (version 2006.09.02).]\n",
      ") (/usr/share/texlive/texmf-dist/tex/latex/epstopdf-pkg/epstopdf-base.sty\n",
      "(/usr/share/texlive/texmf-dist/tex/latex/grfext/grfext.sty\n",
      "(/usr/share/texlive/texmf-dist/tex/generic/kvdefinekeys/kvdefinekeys.sty))\n",
      "(/usr/share/texlive/texmf-dist/tex/latex/latexconfig/epstopdf-sys.cfg))\n",
      "(/usr/share/texlive/texmf-dist/tex/latex/biblatex/lbx/english.lbx)\n",
      "(/usr/share/texlive/texmf-dist/tex/latex/l3kernel/expl3.sty)\n",
      "(/usr/share/texlive/texmf-dist/tex/latex/biblatex/blx-case-expl3.sty\n",
      "(/usr/share/texlive/texmf-dist/tex/latex/l3packages/xparse/xparse.sty\n",
      "(/usr/share/texlive/texmf-dist/tex/latex/l3packages/xparse/xparse-generic.tex))\n",
      ") (./written_report.bbl\n",
      "\n",
      "Package biblatex Warning: The following entry could not be found\n",
      "(biblatex)                in the database:\n",
      "(biblatex)                juliagpu\n",
      "(biblatex)                Please verify the spelling and rerun\n",
      "(biblatex)                LaTeX afterwards.\n",
      "\n",
      ") (/usr/share/texlive/texmf-dist/tex/latex/amsfonts/umsa.fd)\n",
      "(/usr/share/texlive/texmf-dist/tex/latex/amsfonts/umsb.fd)\n",
      "(/usr/share/texmf/tex/latex/R/tex/latex/omscmtt.fd)\n",
      "\n",
      "LaTeX Warning: `!h' float specifier changed to `!ht'.\n",
      "\n",
      "\n",
      "LaTeX Warning: `!h' float specifier changed to `!ht'.\n",
      "\n",
      "[1{/var/lib/texmf/fonts/map/pdftex/updmap/pdftex.map}] [2 <./img/trends1.png> <\n",
      "./img/trends2.png>] [3 <./img/helmholtz.png>] [4 <./img/Haar_analysis.png>]\n",
      "Overfull \\hbox (56.9156pt too wide) in paragraph at lines 87--88\n",
      " [][] \n",
      "\n",
      "Overfull \\hbox (58.6019pt too wide) in paragraph at lines 93--94\n",
      " [][] \n",
      "\n",
      "Overfull \\hbox (59.5655pt too wide) in paragraph at lines 104--105\n",
      " [][] \n",
      "\n",
      "Overfull \\hbox (70.28552pt too wide) in paragraph at lines 110--111\n",
      " [][] \n",
      "[5 <./img/asymmetric_analysis.png> <./img/asymmetric_synthesis.png> <./img/symm\n",
      "etric_analysis.png> <./img/symmetric_synthesis.png>]\n",
      "Overfull \\hbox (102.70348pt too wide) in paragraph at lines 124--125\n",
      " [][] \n",
      "\n",
      "Overfull \\hbox (53.46916pt too wide) in paragraph at lines 130--131\n",
      " [][] \n",
      "\n",
      "Underfull \\vbox (badness 10000) has occurred while \\output is active [6 <./img/\n",
      "uniform_tile.png> <./img/cq_tiling.png>] [7]\n",
      "Overfull \\hbox (2.9033pt too wide) in paragraph at lines 181--182\n",
      " [][] \n",
      "\n",
      "LaTeX Warning: `!h' float specifier changed to `!ht'.\n",
      "\n",
      "\n",
      "Overfull \\hbox (0.7352pt too wide) in paragraph at lines 189--190\n",
      " [][] \n",
      "\n",
      "LaTeX Warning: `!h' float specifier changed to `!ht'.\n",
      "\n",
      "[8] [9 <./img/timing1.png> <./img/speedup.png>] (./written_report.aux)\n",
      "\n",
      "LaTeX Warning: There were multiply-defined labels.\n",
      "\n",
      " )\n",
      "(see the transcript file for additional information)</usr/share/texlive/texmf-d\n",
      "ist/fonts/type1/public/amsfonts/cm/cmbx10.pfb></usr/share/texlive/texmf-dist/fo\n",
      "nts/type1/public/amsfonts/cm/cmbx12.pfb></usr/share/texlive/texmf-dist/fonts/ty\n",
      "pe1/public/amsfonts/cm/cmbx9.pfb></usr/share/texlive/texmf-dist/fonts/type1/pub\n",
      "lic/amsfonts/cm/cmcsc10.pfb></usr/share/texlive/texmf-dist/fonts/type1/public/a\n",
      "msfonts/cm/cmex10.pfb></usr/share/texlive/texmf-dist/fonts/type1/public/amsfont\n",
      "s/cm/cmmi10.pfb></usr/share/texlive/texmf-dist/fonts/type1/public/amsfonts/cm/c\n",
      "mmi7.pfb></usr/share/texlive/texmf-dist/fonts/type1/public/amsfonts/cm/cmmi9.pf\n",
      "b></usr/share/texlive/texmf-dist/fonts/type1/public/amsfonts/cm/cmr10.pfb></usr\n",
      "/share/texlive/texmf-dist/fonts/type1/public/amsfonts/cm/cmr7.pfb></usr/share/t\n",
      "exlive/texmf-dist/fonts/type1/public/amsfonts/cm/cmr9.pfb></usr/share/texlive/t\n",
      "exmf-dist/fonts/type1/public/amsfonts/cm/cmsy10.pfb></usr/share/texlive/texmf-d\n",
      "ist/fonts/type1/public/amsfonts/cm/cmsy7.pfb></usr/share/texlive/texmf-dist/fon\n",
      "ts/type1/public/amsfonts/cm/cmsy9.pfb></usr/share/texlive/texmf-dist/fonts/type\n",
      "1/public/amsfonts/cm/cmti10.pfb></usr/share/texlive/texmf-dist/fonts/type1/publ\n",
      "ic/amsfonts/cm/cmtt10.pfb></usr/share/texlive/texmf-dist/fonts/type1/public/ams\n",
      "fonts/cm/cmtt9.pfb>\n",
      "Output written on written_report.pdf (9 pages, 2424726 bytes).\n",
      "Transcript written on written_report.log.\n",
      "INFO - This is Biber 2.16\n",
      "INFO - Logfile is 'written_report.blg'\n",
      "INFO - Reading 'written_report.bcf'\n",
      "INFO - Found 4 citekeys in bib section 0\n",
      "INFO - Processing section 0\n",
      "INFO - Looking for bibtex format file 'sources.bib' for section 0\n",
      "INFO - LaTeX decoding ...\n",
      "INFO - Found BibTeX data source 'sources.bib'\n",
      "INFO - Overriding locale 'en-US' defaults 'normalization = NFD' with 'normalization = prenormalized'\n",
      "INFO - Overriding locale 'en-US' defaults 'variable = shifted' with 'variable = non-ignorable'\n",
      "INFO - Sorting list 'anyt/global//global/global' of type 'entry' with template 'anyt' and locale 'en-US'\n",
      "INFO - No sort tailoring available for locale 'en-US'\n",
      "INFO - Writing 'written_report.bbl' with encoding 'UTF-8'\n",
      "INFO - Output to written_report.bbl\n",
      "This is pdfTeX, Version 3.14159265-2.6-1.40.21 (TeX Live 2020/Debian) (preloaded format=pdflatex)\n",
      " restricted \\write18 enabled.\n",
      "entering extended mode\n",
      "(./written_report.tex\n",
      "LaTeX2e <2020-10-01> patch level 4\n",
      "L3 programming layer <2021-01-09> xparse <2020-03-03> (./llncs.cls\n",
      "Document Class: llncs 2018/03/10 v2.20 \n",
      " LaTeX document class for Lecture Notes in Computer Science\n",
      "(/usr/share/texlive/texmf-dist/tex/latex/base/article.cls\n",
      "Document Class: article 2020/04/10 v1.4m Standard LaTeX document class\n",
      "(/usr/share/texlive/texmf-dist/tex/latex/base/size10.clo))\n",
      "(/usr/share/texlive/texmf-dist/tex/latex/tools/multicol.sty)\n",
      "(/usr/share/texlive/texmf-dist/tex/latex/oberdiek/aliascnt.sty))\n",
      "(/usr/share/texlive/texmf-dist/tex/latex/base/inputenc.sty)\n",
      "(/usr/share/texlive/texmf-dist/tex/latex/setspace/setspace.sty)\n",
      "(/usr/share/texlive/texmf-dist/tex/latex/amsfonts/amssymb.sty\n",
      "(/usr/share/texlive/texmf-dist/tex/latex/amsfonts/amsfonts.sty))\n",
      "(/usr/share/texlive/texmf-dist/tex/latex/subfiles/subfiles.sty\n",
      "(/usr/share/texlive/texmf-dist/tex/latex/import/import.sty))\n",
      "(/usr/share/texlive/texmf-dist/tex/latex/amsmath/amsmath.sty\n",
      "For additional information on amsmath, use the `?' option.\n",
      "(/usr/share/texlive/texmf-dist/tex/latex/amsmath/amstext.sty\n",
      "(/usr/share/texlive/texmf-dist/tex/latex/amsmath/amsgen.sty))\n",
      "(/usr/share/texlive/texmf-dist/tex/latex/amsmath/amsbsy.sty)\n",
      "(/usr/share/texlive/texmf-dist/tex/latex/amsmath/amsopn.sty))\n",
      "(/usr/share/texlive/texmf-dist/tex/latex/graphics/graphicx.sty\n",
      "(/usr/share/texlive/texmf-dist/tex/latex/graphics/keyval.sty)\n",
      "(/usr/share/texlive/texmf-dist/tex/latex/graphics/graphics.sty\n",
      "(/usr/share/texlive/texmf-dist/tex/latex/graphics/trig.sty)\n",
      "(/usr/share/texlive/texmf-dist/tex/latex/graphics-cfg/graphics.cfg)\n",
      "(/usr/share/texlive/texmf-dist/tex/latex/graphics-def/pdftex.def)))\n",
      "(/usr/share/texlive/texmf-dist/tex/latex/caption/subcaption.sty\n",
      "(/usr/share/texlive/texmf-dist/tex/latex/caption/caption.sty\n",
      "(/usr/share/texlive/texmf-dist/tex/latex/caption/caption3.sty)\n",
      "\n",
      "Package caption Warning: Unknown document class (or package),\n",
      "(caption)                standard defaults will be used.\n",
      "See the caption package documentation for explanation.\n",
      "\n",
      ")) (/usr/share/texlive/texmf-dist/tex/latex/biblatex/biblatex.sty\n",
      "(/usr/share/texlive/texmf-dist/tex/generic/pdftexcmds/pdftexcmds.sty\n",
      "(/usr/share/texlive/texmf-dist/tex/generic/infwarerr/infwarerr.sty)\n",
      "(/usr/share/texlive/texmf-dist/tex/generic/iftex/iftex.sty)\n",
      "(/usr/share/texlive/texmf-dist/tex/generic/ltxcmds/ltxcmds.sty))\n",
      "(/usr/share/texlive/texmf-dist/tex/latex/etoolbox/etoolbox.sty)\n",
      "(/usr/share/texlive/texmf-dist/tex/latex/kvoptions/kvoptions.sty\n",
      "(/usr/share/texlive/texmf-dist/tex/generic/kvsetkeys/kvsetkeys.sty))\n",
      "(/usr/share/texlive/texmf-dist/tex/latex/logreq/logreq.sty\n",
      "(/usr/share/texlive/texmf-dist/tex/latex/logreq/logreq.def))\n",
      "(/usr/share/texlive/texmf-dist/tex/latex/base/ifthen.sty)\n",
      "(/usr/share/texlive/texmf-dist/tex/latex/url/url.sty)\n",
      "(/usr/share/texlive/texmf-dist/tex/latex/biblatex/blx-dm.def)\n",
      "(/usr/share/texlive/texmf-dist/tex/latex/biblatex/blx-compat.def)\n",
      "(/usr/share/texlive/texmf-dist/tex/latex/biblatex/biblatex.def)\n",
      "(/usr/share/texlive/texmf-dist/tex/latex/biblatex/bbx/alphabetic.bbx\n",
      "(/usr/share/texlive/texmf-dist/tex/latex/biblatex/bbx/standard.bbx))\n",
      "(/usr/share/texlive/texmf-dist/tex/latex/biblatex/cbx/alphabetic.cbx)\n",
      "(/usr/share/texlive/texmf-dist/tex/latex/biblatex/biblatex.cfg))\n",
      "(/usr/share/texlive/texmf-dist/tex/latex/l3backend/l3backend-pdftex.def)\n",
      "(./written_report.aux\n",
      "\n",
      "LaTeX Warning: Label `sec:cudnn' multiply defined.\n",
      "\n",
      ") (/usr/share/texlive/texmf-dist/tex/context/base/mkii/supp-pdf.mkii\n",
      "[Loading MPS to PDF converter (version 2006.09.02).]\n",
      ") (/usr/share/texlive/texmf-dist/tex/latex/epstopdf-pkg/epstopdf-base.sty\n",
      "(/usr/share/texlive/texmf-dist/tex/latex/grfext/grfext.sty\n",
      "(/usr/share/texlive/texmf-dist/tex/generic/kvdefinekeys/kvdefinekeys.sty))\n",
      "(/usr/share/texlive/texmf-dist/tex/latex/latexconfig/epstopdf-sys.cfg))\n",
      "(/usr/share/texlive/texmf-dist/tex/latex/biblatex/lbx/english.lbx)\n",
      "(/usr/share/texlive/texmf-dist/tex/latex/l3kernel/expl3.sty)\n",
      "(/usr/share/texlive/texmf-dist/tex/latex/biblatex/blx-case-expl3.sty\n",
      "(/usr/share/texlive/texmf-dist/tex/latex/l3packages/xparse/xparse.sty\n",
      "(/usr/share/texlive/texmf-dist/tex/latex/l3packages/xparse/xparse-generic.tex))\n",
      ") (./written_report.bbl)\n",
      "(/usr/share/texlive/texmf-dist/tex/latex/amsfonts/umsa.fd)\n",
      "(/usr/share/texlive/texmf-dist/tex/latex/amsfonts/umsb.fd)\n",
      "(/usr/share/texmf/tex/latex/R/tex/latex/omscmtt.fd)\n",
      "\n",
      "LaTeX Warning: `!h' float specifier changed to `!ht'.\n",
      "\n",
      "\n",
      "LaTeX Warning: `!h' float specifier changed to `!ht'.\n",
      "\n",
      "[1{/var/lib/texmf/fonts/map/pdftex/updmap/pdftex.map}] [2 <./img/trends1.png> <\n",
      "./img/trends2.png>] [3 <./img/helmholtz.png>] [4 <./img/Haar_analysis.png>]\n",
      "Overfull \\hbox (56.9156pt too wide) in paragraph at lines 87--88\n",
      " [][] \n",
      "\n",
      "Overfull \\hbox (58.6019pt too wide) in paragraph at lines 93--94\n",
      " [][] \n",
      "\n",
      "Overfull \\hbox (59.5655pt too wide) in paragraph at lines 104--105\n",
      " [][] \n",
      "\n",
      "Overfull \\hbox (70.28552pt too wide) in paragraph at lines 110--111\n",
      " [][] \n",
      "[5 <./img/asymmetric_analysis.png> <./img/asymmetric_synthesis.png> <./img/symm\n",
      "etric_analysis.png> <./img/symmetric_synthesis.png>]\n",
      "Overfull \\hbox (102.70348pt too wide) in paragraph at lines 124--125\n",
      " [][] \n",
      "\n",
      "Overfull \\hbox (53.46916pt too wide) in paragraph at lines 130--131\n",
      " [][] \n",
      "\n",
      "Underfull \\vbox (badness 10000) has occurred while \\output is active [6 <./img/\n",
      "uniform_tile.png> <./img/cq_tiling.png>] [7]\n",
      "Overfull \\hbox (2.9033pt too wide) in paragraph at lines 181--182\n",
      " [][] \n",
      "\n",
      "LaTeX Warning: `!h' float specifier changed to `!ht'.\n",
      "\n",
      "\n",
      "Overfull \\hbox (0.7352pt too wide) in paragraph at lines 189--190\n",
      " [][] \n",
      "\n",
      "LaTeX Warning: `!h' float specifier changed to `!ht'.\n",
      "\n",
      "[8] [9 <./img/timing1.png> <./img/speedup.png>] [10] (./written_report.aux)\n",
      "\n",
      "LaTeX Warning: There were multiply-defined labels.\n",
      "\n",
      " )\n",
      "(see the transcript file for additional information)</usr/share/texlive/texmf-d\n",
      "ist/fonts/type1/public/amsfonts/cm/cmbx10.pfb></usr/share/texlive/texmf-dist/fo\n",
      "nts/type1/public/amsfonts/cm/cmbx12.pfb></usr/share/texlive/texmf-dist/fonts/ty\n",
      "pe1/public/amsfonts/cm/cmbx9.pfb></usr/share/texlive/texmf-dist/fonts/type1/pub\n",
      "lic/amsfonts/cm/cmcsc10.pfb></usr/share/texlive/texmf-dist/fonts/type1/public/a\n",
      "msfonts/cm/cmex10.pfb></usr/share/texlive/texmf-dist/fonts/type1/public/amsfont\n",
      "s/cm/cmmi10.pfb></usr/share/texlive/texmf-dist/fonts/type1/public/amsfonts/cm/c\n",
      "mmi7.pfb></usr/share/texlive/texmf-dist/fonts/type1/public/amsfonts/cm/cmmi9.pf\n",
      "b></usr/share/texlive/texmf-dist/fonts/type1/public/amsfonts/cm/cmr10.pfb></usr\n",
      "/share/texlive/texmf-dist/fonts/type1/public/amsfonts/cm/cmr7.pfb></usr/share/t\n",
      "exlive/texmf-dist/fonts/type1/public/amsfonts/cm/cmr9.pfb></usr/share/texlive/t\n",
      "exmf-dist/fonts/type1/public/amsfonts/cm/cmsy10.pfb></usr/share/texlive/texmf-d\n",
      "ist/fonts/type1/public/amsfonts/cm/cmsy7.pfb></usr/share/texlive/texmf-dist/fon\n",
      "ts/type1/public/amsfonts/cm/cmsy9.pfb></usr/share/texlive/texmf-dist/fonts/type\n",
      "1/public/amsfonts/cm/cmti10.pfb></usr/share/texlive/texmf-dist/fonts/type1/publ\n",
      "ic/amsfonts/cm/cmtt10.pfb></usr/share/texlive/texmf-dist/fonts/type1/public/ams\n",
      "fonts/cm/cmtt9.pfb>\n",
      "Output written on written_report.pdf (10 pages, 2428133 bytes).\n",
      "Transcript written on written_report.log.\n"
     ]
    },
    {
     "name": "stderr",
     "output_type": "stream",
     "text": [
      "/home/server/.local/lib/python3.9/site-packages/traitlets/traitlets.py:2556: FutureWarning: --TagRemovePreprocessor.remove_cell_tags={\"remove_cell\"} for containers is deprecated in traitlets 5.0. You can pass `--TagRemovePreprocessor.remove_cell_tags item` ... multiple times to add items to a list.\n",
      "  warn(\n",
      "[NbConvertApp] Converting notebook written_report.ipynb to markdown\n",
      "[NbConvertApp] Writing 29384 bytes to written_report.md\n"
     ]
    }
   ],
   "source": [
    "run(`jupyter-nbconvert --to markdown written_report.ipynb --TagRemovePreprocessor.remove_cell_tags='{\"remove_cell\"}'`);\n",
    "run(`mv written_report.md written_report.tex`);\n",
    "run(`pdflatex written_report`);\n",
    "run(`biber written_report`);\n",
    "run(`pdflatex written_report`);"
   ]
  }
 ],
 "metadata": {
  "kernelspec": {
   "display_name": "Julia 1.7.0-beta3",
   "language": "julia",
   "name": "julia-1.7"
  },
  "language_info": {
   "file_extension": ".jl",
   "mimetype": "application/julia",
   "name": "julia",
   "version": "1.7.0"
  }
 },
 "nbformat": 4,
 "nbformat_minor": 5
}
