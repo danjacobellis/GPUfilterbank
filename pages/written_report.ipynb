{
 "cells": [
  {
   "cell_type": "raw",
   "id": "09f3aaff-f5da-4527-9701-4c892767299d",
   "metadata": {},
   "source": [
    "\\documentclass[runningheads]{llncs}\n",
    "\\usepackage[utf8]{inputenc}\n",
    "\\usepackage{setspace}\n",
    "\\usepackage{amssymb}\n",
    "\\usepackage{subfiles}\n",
    "\\usepackage{amsmath}\n",
    "\\usepackage{graphicx}\n",
    "\\usepackage{subcaption}\n",
    "\\usepackage[\n",
    "backend=biber,\n",
    "style=alphabetic,\n",
    "giveninits=true\n",
    "]{biblatex}\n",
    "\\DeclareNameAlias{default}{family-given}\n",
    "\\addbibresource{sources.bib}\n"
   ]
  },
  {
   "cell_type": "raw",
   "id": "b0bbbe46-48ed-4342-a9fd-27e829817564",
   "metadata": {},
   "source": [
    "\\graphicspath{ {./img} }\n"
   ]
  },
  {
   "cell_type": "raw",
   "id": "07f748d2-65ab-4c4d-abec-098668f67bb1",
   "metadata": {},
   "source": [
    "\\title{GPU Filter Banks for Audio}\n",
    "\\author{Dan Jacobellis\n",
    "\\and\n",
    "Utsha Khondkar}\n",
    "\\date{\\today}\n",
    "\n",
    "\\authorrunning{Jacobellis and Khondkar}\n",
    "\n",
    "\\institute{ Department of Electrical and Computer  Engineering\\\\\n",
    "  University of Texas at Austin,\\\\\n",
    "  Austin, TX 78712\\\\\n",
    " \\email{\\{danjacobellis, utsha.kh\\}@utexas.edu}}\n",
    " "
   ]
  },
  {
   "cell_type": "raw",
   "id": "1f43b7c0-5c20-4642-b94c-30848b1a1c09",
   "metadata": {},
   "source": [
    "\\begin{document}\n",
    "\n",
    "\\def\\IEEEQED{\\mbox{\\rule[0pt]{1.3ex}{1.3ex}}} % for a filled box\n",
    "\\newcommand{\\ep}{\\hspace*{\\fill}~\\IEEEQED}\n",
    "\\newenvironment{mproof}[1][Proof]{{\\bf #1: }}{\\ep\\vspace{.1in}}\n",
    "\n",
    "\\maketitle\n",
    "\\doublespacing\n"
   ]
  },
  {
   "cell_type": "raw",
   "id": "7f047958-f060-4b44-8874-9ab12d354f06",
   "metadata": {},
   "source": [
    "\\begin{abstract}\n"
   ]
  },
  {
   "cell_type": "markdown",
   "id": "f5adead8-ba13-4f3c-bea1-4e923c036c9a",
   "metadata": {},
   "source": [
    "In our project, we implement a class of perfect-reconstruction filterbanks for audio analysis. We use a GPU to solve embarassingly parallel subtasks so that the algorithm takes only $O\\left(\\log{N}\\right)$ time steps. We also introduce a novel type of time-frequency tiling which retains the benefits of constant-Q transforms without requiring their cumbersome data structure."
   ]
  },
  {
   "cell_type": "raw",
   "id": "d70d6356-d396-4118-89f2-760bed87e38b",
   "metadata": {},
   "source": [
    "\n",
    "\\end{abstract}\n"
   ]
  },
  {
   "cell_type": "raw",
   "id": "1974ee2a-9de3-40aa-a526-70b4405184fa",
   "metadata": {},
   "source": [
    "\\section{Background} \\label{sec:background}\n"
   ]
  },
  {
   "cell_type": "markdown",
   "id": "019e37a0-d4f9-403f-b248-bf40a2e1ae03",
   "metadata": {},
   "source": [
    "For audio signal processing problems such as compression, denoising, and various types of pattern recognition, deep learning has taken over. For example, the search interest for \"wavelet\" has followed the opposite trajectory as \"convolutional neural network\""
   ]
  },
  {
   "cell_type": "raw",
   "id": "6096af1e-4867-451e-8046-da784dfa66ef",
   "metadata": {},
   "source": [
    "\n",
    "\\begin{figure}[h!]\n",
    "  \\includegraphics[scale=0.4]{trends1}\n",
    "  \\caption{Some expository search trends}\n",
    "\\end{figure}\n"
   ]
  },
  {
   "cell_type": "markdown",
   "id": "2b5df949-5e0e-4fb9-8736-7c1436bf431e",
   "metadata": {},
   "source": [
    "![](img/trends1.png)"
   ]
  },
  {
   "cell_type": "markdown",
   "id": "50667cf1-2baa-4843-9ca4-8d98f690edc6",
   "metadata": {},
   "source": [
    "A current trend of audio signal processing research is to apply 2D convolutional neural networks to time-frequency representations of audio. Although great progress was made in the pre-deep learning era on perfect reconstruction filterbanks and wavelet transforms, most of the algorithms and techniques have been abandoned by practitioners of deep learning because no standardized and free implementations were ever widely disseminated. As a result, the standarized set of triangular \"Mel\" filterbanks dating back nearly 50 years appears to have remained the dominant tool, and have even seen a resurgance despite their impending obsolescence."
   ]
  },
  {
   "cell_type": "raw",
   "id": "e753dfef-f138-4605-8435-dd69aee1436b",
   "metadata": {},
   "source": [
    "\\cite{performance}\n",
    "\n",
    "\\begin{figure}[h!]\n",
    "  \\includegraphics[scale=0.4]{trends2}\n",
    "  \\caption{More expository search trends}\n",
    "\\end{figure}\n"
   ]
  },
  {
   "cell_type": "markdown",
   "id": "bbc8153b-a4f9-4e57-975c-90415a9e99dc",
   "metadata": {},
   "source": [
    "![](img/trends2.png)"
   ]
  },
  {
   "cell_type": "markdown",
   "id": "a0bbac42-ca85-4efc-9eff-55d2ac7acd2a",
   "metadata": {},
   "source": [
    "The use of these methods is accumulating a considerable debt. Because they are based on windowed FFTs, the time resolution is the same for all frequencies. This causes the representation to be overly redundant for low frequencies while undersampled for high frequencies As a result, they lack the perfect reconstruction property and have an inconvenient phase representation. They are difficult to generalize to multiple channels, phased arrays, or higher dimensional transforms. "
   ]
  },
  {
   "cell_type": "raw",
   "id": "6f3c0e71-7c28-4505-ac9b-95a0c6f214ae",
   "metadata": {},
   "source": [
    "\n",
    "\\subsection{Filter banks and discrete wavelet transforms} \\label{sec:wavelet}\n"
   ]
  },
  {
   "cell_type": "markdown",
   "id": "565e44b6-ee18-4439-af9a-f06ad6b8cc55",
   "metadata": {},
   "source": [
    "Filter banks are the oldest method of time-frequency analysis, dating back to the first analog spectrum analyzer built by Hermann von Helmholtz in the 19th century."
   ]
  },
  {
   "cell_type": "raw",
   "id": "1aee1fdb-5998-452a-8716-49b9ec870ff6",
   "metadata": {},
   "source": [
    "\n",
    "\\begin{figure}[h!]\n",
    "  \\includegraphics[scale=0.15]{helmholtz}\n",
    "  \\caption{Early work on analog time-frequency analysis}\n",
    "\\end{figure}\n"
   ]
  },
  {
   "cell_type": "markdown",
   "id": "cbcd3160-1715-441b-b35c-40724d0e2ae5",
   "metadata": {},
   "source": [
    "![](img/helmholtz.png)"
   ]
  },
  {
   "cell_type": "markdown",
   "id": "abe005cc-6e18-40aa-a0ea-6362109163b5",
   "metadata": {},
   "source": [
    "In 1909, mathematician Alfréd Haar discovered that a list of $2^n$ numbers can be represented by recursively taking the sum and difference of adjacent pairs. This property is now commonly referred to 'alias cancellation'\n",
    "\n",
    "In the 1970s, engineers created the first discrete, invertible filterbanks by expoiting this property. Using what are known as 'conjugate mirror filters'. In the following decade, a massive research effort took place, resulting in a rigorous mathematical understanding of these processes and the development of various \"wavelet transforms.\""
   ]
  },
  {
   "cell_type": "raw",
   "id": "7fdef303-805f-4972-80c1-ebe32c1272d7",
   "metadata": {},
   "source": [
    "\\subsection{Haar Decomposition} \\label{sec:haar}\n"
   ]
  },
  {
   "cell_type": "markdown",
   "id": "aca4f725-2ad3-449c-a622-28443a50b4e8",
   "metadata": {},
   "source": [
    "The Haar decomposition is a simple type of perfect reconstruction filter bank and is the basis of our algorithm.\n",
    "\n",
    "For simplicity, we've taken the input samples to be integers it works with any type of signal.\n",
    "\n",
    "We apply two filters using convolution. One filter is low-pass and the other is high pass.\n",
    "\n",
    "You can see that the sum and difference not only decompose the signal into high and low frequency components, but they do so without increasing the number of words required to represent the signal.\n",
    "\n",
    "This is an example of “critically sampled” dyadic filterbank. Critically sampled means that the size of data after applying the filter bank is exactly same as original data, and no information is lost. \"Dyadic\" just refers to the fact that there are two filters in the filter bank.\n",
    "\n",
    "We call the first part an analysis filterbank, since it is decomposing a 1-d signal into multiple frequency bands.\n",
    "\n",
    "We call the reverse operation a synthesis filterbank since it reconstructs the 1-d signal from the frequency bands.\n",
    "\n",
    "In this example, we end up with two signals that have half the time resolution. But, we went from having only one frequeny band to two, so we have doubled our frequency resolution."
   ]
  },
  {
   "cell_type": "raw",
   "id": "cfa90ca0-c2fe-4ae1-921b-6967848b3e4e",
   "metadata": {},
   "source": [
    "\\begin{figure}[h!]\n",
    "  \\centering\n",
    "  \\includegraphics[scale=0.4]{Haar_analysis}\n",
    "  \\caption{Early work on analog time-frequency analysis}\n",
    "\\end{figure}\n"
   ]
  },
  {
   "cell_type": "raw",
   "id": "deda4d7b-d7ac-470b-94c1-907a4f748b57",
   "metadata": {},
   "source": [
    "\\section{Algorithm} \\label{sec:algorithm}\n"
   ]
  },
  {
   "cell_type": "raw",
   "id": "515eefb9-077c-4f06-a459-c31928cb507e",
   "metadata": {},
   "source": [
    "\\subsection{Recursive assymetric/symmetric tree} \\label{sec:tree}\n"
   ]
  },
  {
   "cell_type": "raw",
   "id": "348c6096-acf5-44b3-9c79-5592919bd270",
   "metadata": {},
   "source": [
    "\n",
    "\\begin{figure}[h!]\n",
    "     \\centering\n",
    "     \\begin{subfigure}[b]{0.25\\linewidth}\n",
    "          \\centering\n",
    "          \\includegraphics[scale=0.25]{asymmetric_analysis}\n",
    "          \\caption{Analysis}\n",
    "     \\end{subfigure}\n",
    "     \\hfill\n",
    "     \\begin{subfigure}[b]{0.25\\linewidth}\n",
    "          \\centering\n",
    "          \\includegraphics[scale=0.25]{asymmetric_synthesis}\n",
    "          \\caption{Synthesis}\n",
    "     \\end{subfigure}\n",
    "        \\label{fig:assymetric}\n",
    "        \\caption{Assymetric Filterbanks}\n",
    "\\end{figure}\n"
   ]
  },
  {
   "cell_type": "raw",
   "id": "79999569-8822-4cea-beb5-f3579c547cd2",
   "metadata": {},
   "source": [
    "\n",
    "\\begin{figure}[h!]\n",
    "     \\centering\n",
    "     \\begin{subfigure}[b]{0.25\\linewidth}\n",
    "          \\centering\n",
    "          \\includegraphics[scale=0.25]{symmetric_analysis}\n",
    "          \\caption{Analysis}\n",
    "     \\end{subfigure}\n",
    "     \\hfill\n",
    "     \\begin{subfigure}[b]{0.25\\linewidth}\n",
    "          \\centering\n",
    "          \\includegraphics[scale=0.25]{symmetric_synthesis}\n",
    "          \\caption{Synthesis}\n",
    "     \\end{subfigure}\n",
    "        \\label{fig:symmetric}\n",
    "        \\caption{Symmetric Filterbanks}\n",
    "\\end{figure}\n"
   ]
  },
  {
   "cell_type": "markdown",
   "id": "0d4b9629-3c97-48bd-b2ed-ed87e4690770",
   "metadata": {},
   "source": [
    "In our algorithm, we recursively apply analysis filters to decompose the low frequency band until we have 10 octaves of resolution (plus a DC band)\n",
    "\n",
    "Then for each octave, we recursively apply the analysis filters but now we decompose both the low-frequency and high-frequency components.\n",
    "\n",
    "Exploit highly optimized filtering operations in CUDA to make each convolution $O(log M)$\n",
    "\n",
    "We also implemented the corresponding synthesis filterbank."
   ]
  },
  {
   "cell_type": "raw",
   "id": "3c557aea-b4c7-4d68-8310-ee300c11837a",
   "metadata": {},
   "source": [
    "\\subsection{Hybrid STFT \\& Constant-Q Tiling} \\label{sec:hybrid}\n"
   ]
  },
  {
   "cell_type": "raw",
   "id": "c8b5d04c-1efe-4f17-afcb-a631cf55bb66",
   "metadata": {},
   "source": [
    "\n",
    "\\begin{figure}[h!]\n",
    "     \\centering\n",
    "     \\begin{subfigure}[b]{0.25\\linewidth}\n",
    "          \\centering\n",
    "          \\includegraphics[scale=0.3]{uniform_tile}\n",
    "          \\caption{STFT}\n",
    "     \\end{subfigure}\n",
    "     \\hfill\n",
    "     \\begin{subfigure}[b]{0.25\\linewidth}\n",
    "          \\centering\n",
    "          \\includegraphics[scale=0.3]{cq_tiling}\n",
    "          \\caption{Constant-Q}\n",
    "     \\end{subfigure}\n",
    "        \\label{fig:tilings}\n",
    "        \\caption{Tilings}\n",
    "\\end{figure}\n"
   ]
  },
  {
   "cell_type": "markdown",
   "id": "d7c34bd3-8948-4694-8155-04992db12499",
   "metadata": {},
   "source": [
    "If we recursively apply this procedure, we refine the time-frequency tiling of our representation.\n",
    "\n",
    "Depending on how we structure the tree, we can either get a uniform tiling (similar to STFT), or a constant-Q tiling.\n",
    "\n",
    "The structure on the left has a simple convenient data structure: we can represent each tile as the element of a matrix.\n",
    "\n",
    "The structure on the right is often a better representation of the underlying signal structure, and provides good time resolution at the places we need and good frequency resolution in the places we need.\n",
    "\n",
    "What if we could have the best of both worlds?\n",
    "\n",
    "That's exactly what we did!"
   ]
  },
  {
   "cell_type": "raw",
   "id": "57a20514-3651-487e-b952-1c368f640d3b",
   "metadata": {},
   "source": [
    "\\section{Implementation} \\label{sec:implementation}\n"
   ]
  },
  {
   "cell_type": "raw",
   "id": "69428061-fdbe-4a5b-8811-411f5f0d1330",
   "metadata": {},
   "source": [
    "\\subsection{CuDNN Convolution} \\label{sec:cudnn}\n"
   ]
  },
  {
   "cell_type": "markdown",
   "id": "4d678544-cacc-449f-a6f0-32990acae5e7",
   "metadata": {},
   "source": [
    "$ y = x \\ast h = \n",
    "\\begin{bmatrix}\n",
    "    x_1 & 0 & \\cdots & 0 & 0 \\\\\n",
    "    x_2 & x_1 &      & \\vdots & \\vdots \\\\\n",
    "    x_3 & x_2 & \\cdots & 0 & 0 \\\\\n",
    "    \\vdots & x_3 & \\cdots & x_1 & 0 \\\\\n",
    "    x_{n-1} & \\vdots & \\ddots & x_2 & x_1 \\\\\n",
    "    x_n & x_{n-1} &      & \\vdots & x_2 \\\\\n",
    "    0 & x_n & \\ddots & x_{n-2} & \\vdots \\\\\n",
    "    0 & 0 & \\cdots & x_{n-1} & x_{n-2} \\\\\n",
    "    \\vdots & \\vdots &        & x_n & x_{n-1} \\\\\n",
    "    0 & 0 & 0 & \\cdots & x_n\n",
    "\\end{bmatrix}\n",
    "$\n",
    "$\\begin{bmatrix}\n",
    "    0 \\\\\n",
    "    0 \\\\\n",
    "    \\vdots\\\\\n",
    "    h_1 \\\\\n",
    "    h_2 \\\\\n",
    "    \\vdots \\\\\n",
    "    h_m \\\\\n",
    "    0 \\\\\n",
    "    \\vdots \\\\\n",
    "    0 \\\\\n",
    "\\end{bmatrix}$\n"
   ]
  },
  {
   "cell_type": "markdown",
   "id": "49aea2e8-11e0-48de-bc56-b47db2df14c0",
   "metadata": {},
   "source": [
    "Since the core computation of our algorithm is applying filters to a digital signal (i.e. a sequence of discrete numbers), the major computation burden is convolution.\n",
    "Each analysis filter and synthesis filterbanks consist of recursive filtering, followed by or following by downsampling and upsampling, respectively. Convolving a signal with a digital filter consists of a number of dot products, which are all independent. Specifically, for a sequence of length $N$ and filter of length $M$, there are $N$ parallelizable dot products, and each dot products takes $O(log(M))$ time to add up all products in dot product using parallel reduce.\n",
    "CuDNN has highly optimized convolution implmentation with support for various parameters such as padding, stride, and dilations. By combining them we can perform each filtering in our filterbank efficiently. "
   ]
  },
  {
   "cell_type": "raw",
   "id": "b70f4d08-96a2-4bd3-8249-19ce987a42c3",
   "metadata": {},
   "source": [
    "\\section{Results} \\label{sec:results}\n"
   ]
  },
  {
   "cell_type": "raw",
   "id": "9fc60a0c-9bcd-4cfe-871f-43fc31f58f49",
   "metadata": {},
   "source": [
    "\\begin{figure}[h!]\n",
    "  \\centering\n",
    "  \\includegraphics[scale=0.5]{timing1}\n",
    "  \\caption{Performance measurement of our algorithm}\n",
    "\\end{figure}\n"
   ]
  },
  {
   "cell_type": "markdown",
   "id": "486e209c-0025-479e-ac4c-b6bbfd6d7d18",
   "metadata": {},
   "source": [
    "We tested how our algorithm scales with different data size, from about one second of music to one hour of film.\n",
    "This matches with the derived complexity of our algorithm, as scaling input by $10^4$ times takes $10^2$ time. We can also see that the analysis filter and synthesis filter scales in exactly same way. Synthesis, or the invert operation takes slightly longer because it has addition terms."
   ]
  },
  {
   "cell_type": "raw",
   "id": "2a31bf93-ba94-4449-b272-35f050a5ce22",
   "metadata": {},
   "source": [
    "\\begin{figure}[h!]\n",
    "  \\centering\n",
    "  \\includegraphics[scale=0.5]{speedup}\n",
    "  \\caption{Speedup compared to librosa mel spectrogram}\n",
    "\\end{figure}\n"
   ]
  },
  {
   "cell_type": "markdown",
   "id": "a5aa9b06-d83b-4a8d-9e35-64e2a331311b",
   "metadata": {},
   "source": [
    "Next, we compared our algorithm with Librosa, which is a widely-used audio processing library. It's algorithm is not optimized for similar task, and as Dan explained earlier it uses non reconstractbale filters so it does some unnecessary operations (like Griffinlim). We can clearly see speedup, up to about 200 times. This is a big deal, because when people use filterbank as a preprocessing for large scale dataset for deep learning, because some datasets have 100s of 1000s of hours, the waiting time for preprocessing will be dramatically reduced."
   ]
  },
  {
   "cell_type": "raw",
   "id": "be154c06-b80d-4161-b8e1-170cea780bb5",
   "metadata": {},
   "source": [
    "\n",
    "\\printbibliography\n",
    "\\end{document}"
   ]
  },
  {
   "cell_type": "code",
   "execution_count": 62,
   "id": "865fa049-8f79-49d9-a3ec-3e90f500ada1",
   "metadata": {},
   "outputs": [
    {
     "name": "stdout",
     "output_type": "stream",
     "text": [
      "This is pdfTeX, Version 3.14159265-2.6-1.40.21 (TeX Live 2020/Debian) (preloaded format=pdflatex)\n",
      " restricted \\write18 enabled.\n",
      "entering extended mode\n",
      "(./written_report.tex\n",
      "LaTeX2e <2020-10-01> patch level 4\n",
      "L3 programming layer <2021-01-09> xparse <2020-03-03> (./llncs.cls\n",
      "Document Class: llncs 2018/03/10 v2.20 \n",
      " LaTeX document class for Lecture Notes in Computer Science\n",
      "(/usr/share/texlive/texmf-dist/tex/latex/base/article.cls\n",
      "Document Class: article 2020/04/10 v1.4m Standard LaTeX document class\n",
      "(/usr/share/texlive/texmf-dist/tex/latex/base/size10.clo))\n",
      "(/usr/share/texlive/texmf-dist/tex/latex/tools/multicol.sty)\n",
      "(/usr/share/texlive/texmf-dist/tex/latex/oberdiek/aliascnt.sty))\n",
      "(/usr/share/texlive/texmf-dist/tex/latex/base/inputenc.sty)\n",
      "(/usr/share/texlive/texmf-dist/tex/latex/setspace/setspace.sty)\n",
      "(/usr/share/texlive/texmf-dist/tex/latex/amsfonts/amssymb.sty\n",
      "(/usr/share/texlive/texmf-dist/tex/latex/amsfonts/amsfonts.sty))\n",
      "(/usr/share/texlive/texmf-dist/tex/latex/subfiles/subfiles.sty\n",
      "(/usr/share/texlive/texmf-dist/tex/latex/import/import.sty))\n",
      "(/usr/share/texlive/texmf-dist/tex/latex/amsmath/amsmath.sty\n",
      "For additional information on amsmath, use the `?' option.\n",
      "(/usr/share/texlive/texmf-dist/tex/latex/amsmath/amstext.sty\n",
      "(/usr/share/texlive/texmf-dist/tex/latex/amsmath/amsgen.sty))\n",
      "(/usr/share/texlive/texmf-dist/tex/latex/amsmath/amsbsy.sty)\n",
      "(/usr/share/texlive/texmf-dist/tex/latex/amsmath/amsopn.sty))\n",
      "(/usr/share/texlive/texmf-dist/tex/latex/graphics/graphicx.sty\n",
      "(/usr/share/texlive/texmf-dist/tex/latex/graphics/keyval.sty)\n",
      "(/usr/share/texlive/texmf-dist/tex/latex/graphics/graphics.sty\n",
      "(/usr/share/texlive/texmf-dist/tex/latex/graphics/trig.sty)\n",
      "(/usr/share/texlive/texmf-dist/tex/latex/graphics-cfg/graphics.cfg)\n",
      "(/usr/share/texlive/texmf-dist/tex/latex/graphics-def/pdftex.def)))\n",
      "(/usr/share/texlive/texmf-dist/tex/latex/caption/subcaption.sty\n",
      "(/usr/share/texlive/texmf-dist/tex/latex/caption/caption.sty\n",
      "(/usr/share/texlive/texmf-dist/tex/latex/caption/caption3.sty)\n",
      "\n",
      "Package caption Warning: Unknown document class (or package),\n",
      "(caption)                standard defaults will be used.\n",
      "See the caption package documentation for explanation.\n",
      "\n",
      ")) (/usr/share/texlive/texmf-dist/tex/latex/biblatex/biblatex.sty\n",
      "(/usr/share/texlive/texmf-dist/tex/generic/pdftexcmds/pdftexcmds.sty\n",
      "(/usr/share/texlive/texmf-dist/tex/generic/infwarerr/infwarerr.sty)\n",
      "(/usr/share/texlive/texmf-dist/tex/generic/iftex/iftex.sty)\n",
      "(/usr/share/texlive/texmf-dist/tex/generic/ltxcmds/ltxcmds.sty))\n",
      "(/usr/share/texlive/texmf-dist/tex/latex/etoolbox/etoolbox.sty)\n",
      "(/usr/share/texlive/texmf-dist/tex/latex/kvoptions/kvoptions.sty\n",
      "(/usr/share/texlive/texmf-dist/tex/generic/kvsetkeys/kvsetkeys.sty))\n",
      "(/usr/share/texlive/texmf-dist/tex/latex/logreq/logreq.sty\n",
      "(/usr/share/texlive/texmf-dist/tex/latex/logreq/logreq.def))\n",
      "(/usr/share/texlive/texmf-dist/tex/latex/base/ifthen.sty)\n",
      "(/usr/share/texlive/texmf-dist/tex/latex/url/url.sty)\n",
      "(/usr/share/texlive/texmf-dist/tex/latex/biblatex/blx-dm.def)\n",
      "(/usr/share/texlive/texmf-dist/tex/latex/biblatex/blx-compat.def)\n",
      "(/usr/share/texlive/texmf-dist/tex/latex/biblatex/biblatex.def)\n",
      "(/usr/share/texlive/texmf-dist/tex/latex/biblatex/bbx/alphabetic.bbx\n",
      "(/usr/share/texlive/texmf-dist/tex/latex/biblatex/bbx/standard.bbx))\n",
      "(/usr/share/texlive/texmf-dist/tex/latex/biblatex/cbx/alphabetic.cbx)\n",
      "(/usr/share/texlive/texmf-dist/tex/latex/biblatex/biblatex.cfg))\n",
      "(/usr/share/texlive/texmf-dist/tex/latex/l3backend/l3backend-pdftex.def)\n",
      "(./written_report.aux)\n",
      "(/usr/share/texlive/texmf-dist/tex/context/base/mkii/supp-pdf.mkii\n",
      "[Loading MPS to PDF converter (version 2006.09.02).]\n",
      ") (/usr/share/texlive/texmf-dist/tex/latex/epstopdf-pkg/epstopdf-base.sty\n",
      "(/usr/share/texlive/texmf-dist/tex/latex/grfext/grfext.sty\n",
      "(/usr/share/texlive/texmf-dist/tex/generic/kvdefinekeys/kvdefinekeys.sty))\n",
      "(/usr/share/texlive/texmf-dist/tex/latex/latexconfig/epstopdf-sys.cfg))\n",
      "(/usr/share/texlive/texmf-dist/tex/latex/biblatex/lbx/english.lbx)\n",
      "(/usr/share/texlive/texmf-dist/tex/latex/l3kernel/expl3.sty)\n",
      "(/usr/share/texlive/texmf-dist/tex/latex/biblatex/blx-case-expl3.sty\n",
      "(/usr/share/texlive/texmf-dist/tex/latex/l3packages/xparse/xparse.sty\n",
      "(/usr/share/texlive/texmf-dist/tex/latex/l3packages/xparse/xparse-generic.tex))\n",
      ") (./written_report.bbl)\n",
      "(/usr/share/texlive/texmf-dist/tex/latex/amsfonts/umsa.fd)\n",
      "(/usr/share/texlive/texmf-dist/tex/latex/amsfonts/umsb.fd)\n",
      "(/usr/share/texmf/tex/latex/R/tex/latex/omscmtt.fd)\n",
      "\n",
      "LaTeX Warning: `!h' float specifier changed to `!ht'.\n",
      "\n",
      "[1{/var/lib/texmf/fonts/map/pdftex/updmap/pdftex.map}]\n",
      "Underfull \\vbox (badness 10000) has occurred while \\output is active [2 <./img/\n",
      "trends1.png> <./img/trends2.png>]\n",
      "Underfull \\vbox (badness 2762) has occurred while \\output is active [3 <./img/h\n",
      "elmholtz.png>] [4]\n",
      "Overfull \\hbox (56.9156pt too wide) in paragraph at lines 108--109\n",
      " [][] \n",
      "\n",
      "Overfull \\hbox (58.6019pt too wide) in paragraph at lines 114--115\n",
      " [][] \n",
      "\n",
      "Overfull \\hbox (59.5655pt too wide) in paragraph at lines 125--126\n",
      " [][] \n",
      "\n",
      "Overfull \\hbox (70.28552pt too wide) in paragraph at lines 131--132\n",
      " [][] \n",
      "\n",
      "LaTeX Warning: `!h' float specifier changed to `!ht'.\n",
      "\n",
      "[5 <./img/Haar_analysis.png> <./img/asymmetric_analysis.png> <./img/asymmetric_\n",
      "synthesis.png>]\n",
      "Overfull \\hbox (102.70348pt too wide) in paragraph at lines 151--152\n",
      " [][] \n",
      "\n",
      "Overfull \\hbox (53.46916pt too wide) in paragraph at lines 157--158\n",
      " [][] \n",
      "[6 <./img/symmetric_analysis.png> <./img/symmetric_synthesis.png> <./img/unifor\n",
      "m_tile.png> <./img/cq_tiling.png>] [7]\n",
      "Overfull \\hbox (2.9033pt too wide) in paragraph at lines 212--213\n",
      " [][] \n",
      "\n",
      "Overfull \\hbox (0.7352pt too wide) in paragraph at lines 220--221\n",
      " [][] \n",
      "\n",
      "LaTeX Warning: `!h' float specifier changed to `!ht'.\n",
      "\n",
      "[8 <./img/timing1.png>] [9 <./img/speedup.png>] (./written_report.aux)\n",
      "\n",
      "LaTeX Warning: Label(s) may have changed. Rerun to get cross-references right.\n",
      "\n",
      " )\n",
      "(see the transcript file for additional information)</usr/share/texlive/texmf-d\n",
      "ist/fonts/type1/public/amsfonts/cm/cmbx10.pfb></usr/share/texlive/texmf-dist/fo\n",
      "nts/type1/public/amsfonts/cm/cmbx12.pfb></usr/share/texlive/texmf-dist/fonts/ty\n",
      "pe1/public/amsfonts/cm/cmbx9.pfb></usr/share/texlive/texmf-dist/fonts/type1/pub\n",
      "lic/amsfonts/cm/cmex10.pfb></usr/share/texlive/texmf-dist/fonts/type1/public/am\n",
      "sfonts/cm/cmmi10.pfb></usr/share/texlive/texmf-dist/fonts/type1/public/amsfonts\n",
      "/cm/cmmi7.pfb></usr/share/texlive/texmf-dist/fonts/type1/public/amsfonts/cm/cmm\n",
      "i9.pfb></usr/share/texlive/texmf-dist/fonts/type1/public/amsfonts/cm/cmr10.pfb>\n",
      "</usr/share/texlive/texmf-dist/fonts/type1/public/amsfonts/cm/cmr7.pfb></usr/sh\n",
      "are/texlive/texmf-dist/fonts/type1/public/amsfonts/cm/cmr9.pfb></usr/share/texl\n",
      "ive/texmf-dist/fonts/type1/public/amsfonts/cm/cmsy10.pfb></usr/share/texlive/te\n",
      "xmf-dist/fonts/type1/public/amsfonts/cm/cmsy7.pfb></usr/share/texlive/texmf-dis\n",
      "t/fonts/type1/public/amsfonts/cm/cmsy9.pfb></usr/share/texlive/texmf-dist/fonts\n",
      "/type1/public/amsfonts/cm/cmti10.pfb></usr/share/texlive/texmf-dist/fonts/type1\n",
      "/public/amsfonts/cm/cmtt9.pfb>\n",
      "Output written on written_report.pdf (9 pages, 2402281 bytes).\n",
      "Transcript written on written_report.log.\n",
      "INFO - This is Biber 2.16\n",
      "INFO - Logfile is 'written_report.blg'\n",
      "INFO - Reading 'written_report.bcf'\n",
      "INFO - Found 1 citekeys in bib section 0\n",
      "INFO - Processing section 0\n",
      "INFO - Looking for bibtex format file 'sources.bib' for section 0\n",
      "INFO - LaTeX decoding ...\n",
      "INFO - Found BibTeX data source 'sources.bib'\n",
      "INFO - Overriding locale 'en-US' defaults 'normalization = NFD' with 'normalization = prenormalized'\n",
      "INFO - Overriding locale 'en-US' defaults 'variable = shifted' with 'variable = non-ignorable'\n",
      "INFO - Sorting list 'anyt/global//global/global' of type 'entry' with template 'anyt' and locale 'en-US'\n",
      "INFO - No sort tailoring available for locale 'en-US'\n",
      "INFO - Writing 'written_report.bbl' with encoding 'UTF-8'\n",
      "INFO - Output to written_report.bbl\n",
      "This is pdfTeX, Version 3.14159265-2.6-1.40.21 (TeX Live 2020/Debian) (preloaded format=pdflatex)\n",
      " restricted \\write18 enabled.\n",
      "entering extended mode\n",
      "(./written_report.tex\n",
      "LaTeX2e <2020-10-01> patch level 4\n",
      "L3 programming layer <2021-01-09> xparse <2020-03-03> (./llncs.cls\n",
      "Document Class: llncs 2018/03/10 v2.20 \n",
      " LaTeX document class for Lecture Notes in Computer Science\n",
      "(/usr/share/texlive/texmf-dist/tex/latex/base/article.cls\n",
      "Document Class: article 2020/04/10 v1.4m Standard LaTeX document class\n",
      "(/usr/share/texlive/texmf-dist/tex/latex/base/size10.clo))\n",
      "(/usr/share/texlive/texmf-dist/tex/latex/tools/multicol.sty)\n",
      "(/usr/share/texlive/texmf-dist/tex/latex/oberdiek/aliascnt.sty))\n",
      "(/usr/share/texlive/texmf-dist/tex/latex/base/inputenc.sty)\n",
      "(/usr/share/texlive/texmf-dist/tex/latex/setspace/setspace.sty)\n",
      "(/usr/share/texlive/texmf-dist/tex/latex/amsfonts/amssymb.sty\n",
      "(/usr/share/texlive/texmf-dist/tex/latex/amsfonts/amsfonts.sty))\n",
      "(/usr/share/texlive/texmf-dist/tex/latex/subfiles/subfiles.sty\n",
      "(/usr/share/texlive/texmf-dist/tex/latex/import/import.sty))\n",
      "(/usr/share/texlive/texmf-dist/tex/latex/amsmath/amsmath.sty\n",
      "For additional information on amsmath, use the `?' option.\n",
      "(/usr/share/texlive/texmf-dist/tex/latex/amsmath/amstext.sty\n",
      "(/usr/share/texlive/texmf-dist/tex/latex/amsmath/amsgen.sty))\n",
      "(/usr/share/texlive/texmf-dist/tex/latex/amsmath/amsbsy.sty)\n",
      "(/usr/share/texlive/texmf-dist/tex/latex/amsmath/amsopn.sty))\n",
      "(/usr/share/texlive/texmf-dist/tex/latex/graphics/graphicx.sty\n",
      "(/usr/share/texlive/texmf-dist/tex/latex/graphics/keyval.sty)\n",
      "(/usr/share/texlive/texmf-dist/tex/latex/graphics/graphics.sty\n",
      "(/usr/share/texlive/texmf-dist/tex/latex/graphics/trig.sty)\n",
      "(/usr/share/texlive/texmf-dist/tex/latex/graphics-cfg/graphics.cfg)\n",
      "(/usr/share/texlive/texmf-dist/tex/latex/graphics-def/pdftex.def)))\n",
      "(/usr/share/texlive/texmf-dist/tex/latex/caption/subcaption.sty\n",
      "(/usr/share/texlive/texmf-dist/tex/latex/caption/caption.sty\n",
      "(/usr/share/texlive/texmf-dist/tex/latex/caption/caption3.sty)\n",
      "\n",
      "Package caption Warning: Unknown document class (or package),\n",
      "(caption)                standard defaults will be used.\n",
      "See the caption package documentation for explanation.\n",
      "\n",
      ")) (/usr/share/texlive/texmf-dist/tex/latex/biblatex/biblatex.sty\n",
      "(/usr/share/texlive/texmf-dist/tex/generic/pdftexcmds/pdftexcmds.sty\n",
      "(/usr/share/texlive/texmf-dist/tex/generic/infwarerr/infwarerr.sty)\n",
      "(/usr/share/texlive/texmf-dist/tex/generic/iftex/iftex.sty)\n",
      "(/usr/share/texlive/texmf-dist/tex/generic/ltxcmds/ltxcmds.sty))\n",
      "(/usr/share/texlive/texmf-dist/tex/latex/etoolbox/etoolbox.sty)\n",
      "(/usr/share/texlive/texmf-dist/tex/latex/kvoptions/kvoptions.sty\n",
      "(/usr/share/texlive/texmf-dist/tex/generic/kvsetkeys/kvsetkeys.sty))\n",
      "(/usr/share/texlive/texmf-dist/tex/latex/logreq/logreq.sty\n",
      "(/usr/share/texlive/texmf-dist/tex/latex/logreq/logreq.def))\n",
      "(/usr/share/texlive/texmf-dist/tex/latex/base/ifthen.sty)\n",
      "(/usr/share/texlive/texmf-dist/tex/latex/url/url.sty)\n",
      "(/usr/share/texlive/texmf-dist/tex/latex/biblatex/blx-dm.def)\n",
      "(/usr/share/texlive/texmf-dist/tex/latex/biblatex/blx-compat.def)\n",
      "(/usr/share/texlive/texmf-dist/tex/latex/biblatex/biblatex.def)\n",
      "(/usr/share/texlive/texmf-dist/tex/latex/biblatex/bbx/alphabetic.bbx\n",
      "(/usr/share/texlive/texmf-dist/tex/latex/biblatex/bbx/standard.bbx))\n",
      "(/usr/share/texlive/texmf-dist/tex/latex/biblatex/cbx/alphabetic.cbx)\n",
      "(/usr/share/texlive/texmf-dist/tex/latex/biblatex/biblatex.cfg))\n",
      "(/usr/share/texlive/texmf-dist/tex/latex/l3backend/l3backend-pdftex.def)\n",
      "(./written_report.aux)\n",
      "(/usr/share/texlive/texmf-dist/tex/context/base/mkii/supp-pdf.mkii\n",
      "[Loading MPS to PDF converter (version 2006.09.02).]\n",
      ") (/usr/share/texlive/texmf-dist/tex/latex/epstopdf-pkg/epstopdf-base.sty\n",
      "(/usr/share/texlive/texmf-dist/tex/latex/grfext/grfext.sty\n",
      "(/usr/share/texlive/texmf-dist/tex/generic/kvdefinekeys/kvdefinekeys.sty))\n",
      "(/usr/share/texlive/texmf-dist/tex/latex/latexconfig/epstopdf-sys.cfg))\n",
      "(/usr/share/texlive/texmf-dist/tex/latex/biblatex/lbx/english.lbx)\n",
      "(/usr/share/texlive/texmf-dist/tex/latex/l3kernel/expl3.sty)\n",
      "(/usr/share/texlive/texmf-dist/tex/latex/biblatex/blx-case-expl3.sty\n",
      "(/usr/share/texlive/texmf-dist/tex/latex/l3packages/xparse/xparse.sty\n",
      "(/usr/share/texlive/texmf-dist/tex/latex/l3packages/xparse/xparse-generic.tex))\n",
      ") (./written_report.bbl)\n",
      "(/usr/share/texlive/texmf-dist/tex/latex/amsfonts/umsa.fd)\n",
      "(/usr/share/texlive/texmf-dist/tex/latex/amsfonts/umsb.fd)\n",
      "(/usr/share/texmf/tex/latex/R/tex/latex/omscmtt.fd)\n",
      "\n",
      "LaTeX Warning: `!h' float specifier changed to `!ht'.\n",
      "\n",
      "[1{/var/lib/texmf/fonts/map/pdftex/updmap/pdftex.map}]\n",
      "Underfull \\vbox (badness 10000) has occurred while \\output is active [2 <./img/\n",
      "trends1.png> <./img/trends2.png>]\n",
      "Underfull \\vbox (badness 2762) has occurred while \\output is active [3 <./img/h\n",
      "elmholtz.png>] [4]\n",
      "Overfull \\hbox (56.9156pt too wide) in paragraph at lines 108--109\n",
      " [][] \n",
      "\n",
      "Overfull \\hbox (58.6019pt too wide) in paragraph at lines 114--115\n",
      " [][] \n",
      "\n",
      "Overfull \\hbox (59.5655pt too wide) in paragraph at lines 125--126\n",
      " [][] \n",
      "\n",
      "Overfull \\hbox (70.28552pt too wide) in paragraph at lines 131--132\n",
      " [][] \n",
      "\n",
      "LaTeX Warning: `!h' float specifier changed to `!ht'.\n",
      "\n",
      "[5 <./img/Haar_analysis.png> <./img/asymmetric_analysis.png> <./img/asymmetric_\n",
      "synthesis.png>]\n",
      "Overfull \\hbox (102.70348pt too wide) in paragraph at lines 151--152\n",
      " [][] \n",
      "\n",
      "Overfull \\hbox (53.46916pt too wide) in paragraph at lines 157--158\n",
      " [][] \n",
      "[6 <./img/symmetric_analysis.png> <./img/symmetric_synthesis.png> <./img/unifor\n",
      "m_tile.png> <./img/cq_tiling.png>] [7]\n",
      "Overfull \\hbox (2.9033pt too wide) in paragraph at lines 212--213\n",
      " [][] \n",
      "\n",
      "Overfull \\hbox (0.7352pt too wide) in paragraph at lines 220--221\n",
      " [][] \n",
      "\n",
      "LaTeX Warning: `!h' float specifier changed to `!ht'.\n",
      "\n",
      "[8 <./img/timing1.png>] [9 <./img/speedup.png>] (./written_report.aux) )\n",
      "(see the transcript file for additional information)</usr/share/texlive/texmf-d\n",
      "ist/fonts/type1/public/amsfonts/cm/cmbx10.pfb></usr/share/texlive/texmf-dist/fo\n",
      "nts/type1/public/amsfonts/cm/cmbx12.pfb></usr/share/texlive/texmf-dist/fonts/ty\n",
      "pe1/public/amsfonts/cm/cmbx9.pfb></usr/share/texlive/texmf-dist/fonts/type1/pub\n",
      "lic/amsfonts/cm/cmex10.pfb></usr/share/texlive/texmf-dist/fonts/type1/public/am\n",
      "sfonts/cm/cmmi10.pfb></usr/share/texlive/texmf-dist/fonts/type1/public/amsfonts\n",
      "/cm/cmmi7.pfb></usr/share/texlive/texmf-dist/fonts/type1/public/amsfonts/cm/cmm\n",
      "i9.pfb></usr/share/texlive/texmf-dist/fonts/type1/public/amsfonts/cm/cmr10.pfb>\n",
      "</usr/share/texlive/texmf-dist/fonts/type1/public/amsfonts/cm/cmr7.pfb></usr/sh\n",
      "are/texlive/texmf-dist/fonts/type1/public/amsfonts/cm/cmr9.pfb></usr/share/texl\n",
      "ive/texmf-dist/fonts/type1/public/amsfonts/cm/cmsy10.pfb></usr/share/texlive/te\n",
      "xmf-dist/fonts/type1/public/amsfonts/cm/cmsy7.pfb></usr/share/texlive/texmf-dis\n",
      "t/fonts/type1/public/amsfonts/cm/cmsy9.pfb></usr/share/texlive/texmf-dist/fonts\n",
      "/type1/public/amsfonts/cm/cmti10.pfb></usr/share/texlive/texmf-dist/fonts/type1\n",
      "/public/amsfonts/cm/cmtt9.pfb>\n",
      "Output written on written_report.pdf (9 pages, 2402281 bytes).\n",
      "Transcript written on written_report.log.\n"
     ]
    },
    {
     "name": "stderr",
     "output_type": "stream",
     "text": [
      "/home/server/.local/lib/python3.9/site-packages/traitlets/traitlets.py:2556: FutureWarning: --TagRemovePreprocessor.remove_cell_tags={\"remove_cell\"} for containers is deprecated in traitlets 5.0. You can pass `--TagRemovePreprocessor.remove_cell_tags item` ... multiple times to add items to a list.\n",
      "  warn(\n",
      "[NbConvertApp] Converting notebook written_report.ipynb to markdown\n",
      "[NbConvertApp] Writing 28542 bytes to written_report.md\n"
     ]
    }
   ],
   "source": [
    "run(`jupyter-nbconvert --to markdown written_report.ipynb --TagRemovePreprocessor.remove_cell_tags='{\"remove_cell\"}'`);\n",
    "run(`mv written_report.md written_report.tex`);\n",
    "run(`pdflatex written_report`);\n",
    "run(`biber written_report`);\n",
    "run(`pdflatex written_report`);"
   ]
  },
  {
   "cell_type": "code",
   "execution_count": null,
   "id": "37e6aa54-7f16-4f49-a6d6-7019e55f293f",
   "metadata": {},
   "outputs": [],
   "source": []
  }
 ],
 "metadata": {
  "kernelspec": {
   "display_name": "Julia 1.7.0-beta3",
   "language": "julia",
   "name": "julia-1.7"
  },
  "language_info": {
   "file_extension": ".jl",
   "mimetype": "application/julia",
   "name": "julia",
   "version": "1.7.0"
  }
 },
 "nbformat": 4,
 "nbformat_minor": 5
}
